{
  "cells": [
    {
      "cell_type": "markdown",
      "metadata": {
        "id": "view-in-github",
        "colab_type": "text"
      },
      "source": [
        "<a href=\"https://colab.research.google.com/github/gokulk03/CarPricePrediction/blob/main/Neural_Network_regression.ipynb\" target=\"_parent\"><img src=\"https://colab.research.google.com/assets/colab-badge.svg\" alt=\"Open In Colab\"/></a>"
      ]
    },
    {
      "cell_type": "markdown",
      "metadata": {
        "id": "cVrbjLsyJMno"
      },
      "source": [
        "Creating a data to view and fit\n"
      ]
    },
    {
      "cell_type": "code",
      "execution_count": 1,
      "metadata": {
        "colab": {
          "base_uri": "https://localhost:8080/",
          "height": 435
        },
        "id": "w9HNWigKSEfM",
        "outputId": "cf924856-c6ed-4b6e-8ac2-91f794315c6d"
      },
      "outputs": [
        {
          "output_type": "display_data",
          "data": {
            "text/plain": [
              "<Figure size 640x480 with 1 Axes>"
            ],
            "image/png": "[encoded data removed]"
          },
          "metadata": {}
        }
      ],
      "source": [
        "import tensorflow as tf\n",
        "import numpy as np\n",
        "import matplotlib.pyplot as plt\n",
        "\n",
        "#create features\n",
        "X = np.array([-7.0,-4.0,-1.0,2.0,5.0,8.0,11.0,14.0])\n",
        "\n",
        "#create labels\n",
        "y = np.array([3.0,6.0,9.0,12.0,15.0,18.0,21.0,24.0])\n",
        "\n",
        "#visualization\n",
        "plt.scatter(X,y)\n",
        "X = tf.constant(X)\n",
        "y = tf.constant(y)\n"
      ]
    },
    {
      "cell_type": "markdown",
      "metadata": {
        "id": "1aTfdXecBrqc"
      },
      "source": [
        "Input and Output shapes\n"
      ]
    },
    {
      "cell_type": "code",
      "execution_count": 2,
      "metadata": {
        "colab": {
          "base_uri": "https://localhost:8080/"
        },
        "id": "Otq7bLuYJs4D",
        "outputId": "5ddedbea-00cd-4ba0-8d25-063fc778acf4"
      },
      "outputs": [
        {
          "output_type": "execute_result",
          "data": {
            "text/plain": [
              "(<tf.Tensor: shape=(5,), dtype=string, numpy=\n",
              " array([b'bedroom', b'bathroom', b'kitchen', b'balcony', b'storage'],\n",
              "       dtype=object)>,\n",
              " <tf.Tensor: shape=(1,), dtype=int32, numpy=array([939700], dtype=int32)>)"
            ]
          },
          "metadata": {},
          "execution_count": 2
        }
      ],
      "source": [
        " # Creating a demo tensor for our housing price prediction problem\n",
        "import tensorflow as tf\n",
        "house_inf = tf.constant(['bedroom','bathroom','kitchen','balcony','storage'])\n",
        "house_price = tf.constant([939700])\n",
        "house_inf , house_price"
      ]
    },
    {
      "cell_type": "markdown",
      "metadata": {
        "id": "tBeCC1FMHmtq"
      },
      "source": [
        "## Steps in modelling with TensorFlow\n",
        "\n",
        "1. Creating a model : define the input and the output layers also the hidden layers when using deep learning model.\n",
        "\n",
        "2. Compiling the model : define the loss function(to evaluate how wrong our model is) and the optimizer (to improve patterns)\n",
        "\n",
        "3. Fitting the model - letting the model try to find patterns between x and y(features and labels)"
      ]
    },
    {
      "cell_type": "code",
      "execution_count": 3,
      "metadata": {
        "colab": {
          "base_uri": "https://localhost:8080/"
        },
        "id": "YiKpyZ9cDUvj",
        "outputId": "1a1dde50-605c-42f7-dc29-ef4ee6324852"
      },
      "outputs": [
        {
          "output_type": "stream",
          "name": "stdout",
          "text": [
            "Epoch 1/5\n",
            "1/1 [==============================] - 1s 645ms/step - loss: 9.2417 - mae: 9.2417\n",
            "Epoch 2/5\n",
            "1/1 [==============================] - 0s 10ms/step - loss: 9.1092 - mae: 9.1092\n",
            "Epoch 3/5\n",
            "1/1 [==============================] - 0s 12ms/step - loss: 8.9767 - mae: 8.9767\n",
            "Epoch 4/5\n",
            "1/1 [==============================] - 0s 16ms/step - loss: 8.8442 - mae: 8.8442\n",
            "Epoch 5/5\n",
            "1/1 [==============================] - 0s 11ms/step - loss: 8.7117 - mae: 8.7117\n"
          ]
        },
        {
          "output_type": "execute_result",
          "data": {
            "text/plain": [
              "<keras.callbacks.History at 0x7f8265973d60>"
            ]
          },
          "metadata": {},
          "execution_count": 3
        }
      ],
      "source": [
        "#set random seed\n",
        "tf.random.set_seed(42)\n",
        "\n",
        "#1. create a model using sequential API\n",
        "\n",
        "model = tf.keras.Sequential([\n",
        "    tf.keras.layers.Dense(1)\n",
        "])\n",
        "#2. compile the model\n",
        "\n",
        "model.compile(loss = tf.keras.losses.mae,#(mean absolute error)\n",
        " optimizer = tf.keras.optimizers.SGD(), metrics = [\"mae\"])\n",
        "\n",
        "#3. Fit the model\n",
        "\n",
        "model.fit(tf.expand_dims(X,axis=-1),y,epochs = 5)\n",
        "\n"
      ]
    },
    {
      "cell_type": "code",
      "execution_count": 4,
      "metadata": {
        "colab": {
          "base_uri": "https://localhost:8080/"
        },
        "id": "ZFFlXtTpOyao",
        "outputId": "dc68a19a-e26f-4175-dd5c-a553915d1ca4"
      },
      "outputs": [
        {
          "output_type": "execute_result",
          "data": {
            "text/plain": [
              "(<tf.Tensor: shape=(8,), dtype=float64, numpy=array([-7., -4., -1.,  2.,  5.,  8., 11., 14.])>,\n",
              " <tf.Tensor: shape=(8,), dtype=float64, numpy=array([ 3.,  6.,  9., 12., 15., 18., 21., 24.])>)"
            ]
          },
          "metadata": {},
          "execution_count": 4
        }
      ],
      "source": [
        "X,y"
      ]
    },
    {
      "cell_type": "code",
      "execution_count": 5,
      "metadata": {
        "colab": {
          "base_uri": "https://localhost:8080/"
        },
        "id": "oMVVThS1SvrE",
        "outputId": "e9b2a069-31c7-419d-c529-6fb4afe269f0"
      },
      "outputs": [
        {
          "output_type": "stream",
          "name": "stdout",
          "text": [
            "1/1 [==============================] - 0s 123ms/step\n"
          ]
        },
        {
          "output_type": "execute_result",
          "data": {
            "text/plain": [
              "array([[48.75807]], dtype=float32)"
            ]
          },
          "metadata": {},
          "execution_count": 5
        }
      ],
      "source": [
        "#make prediction\n",
        "y_pred = model.predict([35.0])\n",
        "y_pred"
      ]
    },
    {
      "cell_type": "markdown",
      "metadata": {
        "id": "g3aVfdNchpWd"
      },
      "source": [
        "## Improving the model\n",
        "\n",
        "1. Creating a model - add more layers, increase the number of hidden units(neurons) within each of the hidden layers, change the activation function of each layer.\n",
        "\n",
        "2. Compiling a model - change the optimization function or learning rate of the optimization function.\n",
        "\n",
        "3. Fitting a model - we might fit a model for ore epochs , give more data to learn from.\n"
      ]
    },
    {
      "cell_type": "code",
      "execution_count": 6,
      "metadata": {
        "colab": {
          "base_uri": "https://localhost:8080/"
        },
        "id": "r5yeWzCkS2YE",
        "outputId": "aaaade2b-fbc8-4145-9f49-f956893a36c6"
      },
      "outputs": [
        {
          "output_type": "stream",
          "name": "stdout",
          "text": [
            "Epoch 1/100\n",
            "1/1 [==============================] - 0s 369ms/step - loss: 11.3012 - mae: 11.3012\n",
            "Epoch 2/100\n",
            "1/1 [==============================] - 0s 14ms/step - loss: 11.1687 - mae: 11.1687\n",
            "Epoch 3/100\n",
            "1/1 [==============================] - 0s 15ms/step - loss: 11.0362 - mae: 11.0362\n",
            "Epoch 4/100\n",
            "1/1 [==============================] - 0s 11ms/step - loss: 10.9037 - mae: 10.9037\n",
            "Epoch 5/100\n",
            "1/1 [==============================] - 0s 11ms/step - loss: 10.7712 - mae: 10.7712\n",
            "Epoch 6/100\n",
            "1/1 [==============================] - 0s 11ms/step - loss: 10.6387 - mae: 10.6387\n",
            "Epoch 7/100\n",
            "1/1 [==============================] - 0s 12ms/step - loss: 10.5062 - mae: 10.5062\n",
            "Epoch 8/100\n",
            "1/1 [==============================] - 0s 12ms/step - loss: 10.3737 - mae: 10.3737\n",
            "Epoch 9/100\n",
            "1/1 [==============================] - 0s 10ms/step - loss: 10.2412 - mae: 10.2412\n",
            "Epoch 10/100\n",
            "1/1 [==============================] - 0s 10ms/step - loss: 10.1087 - mae: 10.1087\n",
            "Epoch 11/100\n",
            "1/1 [==============================] - 0s 13ms/step - loss: 9.9762 - mae: 9.9762\n",
            "Epoch 12/100\n",
            "1/1 [==============================] - 0s 14ms/step - loss: 9.8437 - mae: 9.8437\n",
            "Epoch 13/100\n",
            "1/1 [==============================] - 0s 14ms/step - loss: 9.7112 - mae: 9.7112\n",
            "Epoch 14/100\n",
            "1/1 [==============================] - 0s 13ms/step - loss: 9.5787 - mae: 9.5787\n",
            "Epoch 15/100\n",
            "1/1 [==============================] - 0s 12ms/step - loss: 9.4462 - mae: 9.4462\n",
            "Epoch 16/100\n",
            "1/1 [==============================] - 0s 15ms/step - loss: 9.3137 - mae: 9.3137\n",
            "Epoch 17/100\n",
            "1/1 [==============================] - 0s 17ms/step - loss: 9.1812 - mae: 9.1812\n",
            "Epoch 18/100\n",
            "1/1 [==============================] - 0s 12ms/step - loss: 9.0487 - mae: 9.0487\n",
            "Epoch 19/100\n",
            "1/1 [==============================] - 0s 11ms/step - loss: 8.9162 - mae: 8.9162\n",
            "Epoch 20/100\n",
            "1/1 [==============================] - 0s 9ms/step - loss: 8.7837 - mae: 8.7837\n",
            "Epoch 21/100\n",
            "1/1 [==============================] - 0s 10ms/step - loss: 8.6512 - mae: 8.6512\n",
            "Epoch 22/100\n",
            "1/1 [==============================] - 0s 9ms/step - loss: 8.5187 - mae: 8.5187\n",
            "Epoch 23/100\n",
            "1/1 [==============================] - 0s 11ms/step - loss: 8.3862 - mae: 8.3862\n",
            "Epoch 24/100\n",
            "1/1 [==============================] - 0s 10ms/step - loss: 8.2537 - mae: 8.2537\n",
            "Epoch 25/100\n",
            "1/1 [==============================] - 0s 15ms/step - loss: 8.1212 - mae: 8.1212\n",
            "Epoch 26/100\n",
            "1/1 [==============================] - 0s 11ms/step - loss: 7.9887 - mae: 7.9887\n",
            "Epoch 27/100\n",
            "1/1 [==============================] - 0s 10ms/step - loss: 7.8562 - mae: 7.8562\n",
            "Epoch 28/100\n",
            "1/1 [==============================] - 0s 18ms/step - loss: 7.7237 - mae: 7.7237\n",
            "Epoch 29/100\n",
            "1/1 [==============================] - 0s 10ms/step - loss: 7.5912 - mae: 7.5912\n",
            "Epoch 30/100\n",
            "1/1 [==============================] - 0s 9ms/step - loss: 7.4587 - mae: 7.4587\n",
            "Epoch 31/100\n",
            "1/1 [==============================] - 0s 12ms/step - loss: 7.3262 - mae: 7.3262\n",
            "Epoch 32/100\n",
            "1/1 [==============================] - 0s 9ms/step - loss: 7.2675 - mae: 7.2675\n",
            "Epoch 33/100\n",
            "1/1 [==============================] - 0s 8ms/step - loss: 7.2619 - mae: 7.2619\n",
            "Epoch 34/100\n",
            "1/1 [==============================] - 0s 10ms/step - loss: 7.2563 - mae: 7.2563\n",
            "Epoch 35/100\n",
            "1/1 [==============================] - 0s 10ms/step - loss: 7.2506 - mae: 7.2506\n",
            "Epoch 36/100\n",
            "1/1 [==============================] - 0s 10ms/step - loss: 7.2450 - mae: 7.2450\n",
            "Epoch 37/100\n",
            "1/1 [==============================] - 0s 11ms/step - loss: 7.2394 - mae: 7.2394\n",
            "Epoch 38/100\n",
            "1/1 [==============================] - 0s 10ms/step - loss: 7.2337 - mae: 7.2337\n",
            "Epoch 39/100\n",
            "1/1 [==============================] - 0s 8ms/step - loss: 7.2281 - mae: 7.2281\n",
            "Epoch 40/100\n",
            "1/1 [==============================] - 0s 10ms/step - loss: 7.2225 - mae: 7.2225\n",
            "Epoch 41/100\n",
            "1/1 [==============================] - 0s 11ms/step - loss: 7.2169 - mae: 7.2169\n",
            "Epoch 42/100\n",
            "1/1 [==============================] - 0s 9ms/step - loss: 7.2112 - mae: 7.2112\n",
            "Epoch 43/100\n",
            "1/1 [==============================] - 0s 10ms/step - loss: 7.2056 - mae: 7.2056\n",
            "Epoch 44/100\n",
            "1/1 [==============================] - 0s 12ms/step - loss: 7.2000 - mae: 7.2000\n",
            "Epoch 45/100\n",
            "1/1 [==============================] - 0s 10ms/step - loss: 7.1944 - mae: 7.1944\n",
            "Epoch 46/100\n",
            "1/1 [==============================] - 0s 9ms/step - loss: 7.1888 - mae: 7.1888\n",
            "Epoch 47/100\n",
            "1/1 [==============================] - 0s 8ms/step - loss: 7.1831 - mae: 7.1831\n",
            "Epoch 48/100\n",
            "1/1 [==============================] - 0s 9ms/step - loss: 7.1775 - mae: 7.1775\n",
            "Epoch 49/100\n",
            "1/1 [==============================] - 0s 10ms/step - loss: 7.1719 - mae: 7.1719\n",
            "Epoch 50/100\n",
            "1/1 [==============================] - 0s 9ms/step - loss: 7.1663 - mae: 7.1663\n",
            "Epoch 51/100\n",
            "1/1 [==============================] - 0s 9ms/step - loss: 7.1606 - mae: 7.1606\n",
            "Epoch 52/100\n",
            "1/1 [==============================] - 0s 10ms/step - loss: 7.1550 - mae: 7.1550\n",
            "Epoch 53/100\n",
            "1/1 [==============================] - 0s 9ms/step - loss: 7.1494 - mae: 7.1494\n",
            "Epoch 54/100\n",
            "1/1 [==============================] - 0s 10ms/step - loss: 7.1438 - mae: 7.1438\n",
            "Epoch 55/100\n",
            "1/1 [==============================] - 0s 10ms/step - loss: 7.1381 - mae: 7.1381\n",
            "Epoch 56/100\n",
            "1/1 [==============================] - 0s 10ms/step - loss: 7.1325 - mae: 7.1325\n",
            "Epoch 57/100\n",
            "1/1 [==============================] - 0s 10ms/step - loss: 7.1269 - mae: 7.1269\n",
            "Epoch 58/100\n",
            "1/1 [==============================] - 0s 9ms/step - loss: 7.1213 - mae: 7.1213\n",
            "Epoch 59/100\n",
            "1/1 [==============================] - 0s 10ms/step - loss: 7.1156 - mae: 7.1156\n",
            "Epoch 60/100\n",
            "1/1 [==============================] - 0s 9ms/step - loss: 7.1100 - mae: 7.1100\n",
            "Epoch 61/100\n",
            "1/1 [==============================] - 0s 10ms/step - loss: 7.1044 - mae: 7.1044\n",
            "Epoch 62/100\n",
            "1/1 [==============================] - 0s 9ms/step - loss: 7.0988 - mae: 7.0988\n",
            "Epoch 63/100\n",
            "1/1 [==============================] - 0s 9ms/step - loss: 7.0931 - mae: 7.0931\n",
            "Epoch 64/100\n",
            "1/1 [==============================] - 0s 10ms/step - loss: 7.0875 - mae: 7.0875\n",
            "Epoch 65/100\n",
            "1/1 [==============================] - 0s 9ms/step - loss: 7.0819 - mae: 7.0819\n",
            "Epoch 66/100\n",
            "1/1 [==============================] - 0s 9ms/step - loss: 7.0763 - mae: 7.0763\n",
            "Epoch 67/100\n",
            "1/1 [==============================] - 0s 10ms/step - loss: 7.0706 - mae: 7.0706\n",
            "Epoch 68/100\n",
            "1/1 [==============================] - 0s 10ms/step - loss: 7.0650 - mae: 7.0650\n",
            "Epoch 69/100\n",
            "1/1 [==============================] - 0s 10ms/step - loss: 7.0594 - mae: 7.0594\n",
            "Epoch 70/100\n",
            "1/1 [==============================] - 0s 10ms/step - loss: 7.0538 - mae: 7.0538\n",
            "Epoch 71/100\n",
            "1/1 [==============================] - 0s 9ms/step - loss: 7.0481 - mae: 7.0481\n",
            "Epoch 72/100\n",
            "1/1 [==============================] - 0s 9ms/step - loss: 7.0425 - mae: 7.0425\n",
            "Epoch 73/100\n",
            "1/1 [==============================] - 0s 9ms/step - loss: 7.0369 - mae: 7.0369\n",
            "Epoch 74/100\n",
            "1/1 [==============================] - 0s 9ms/step - loss: 7.0312 - mae: 7.0312\n",
            "Epoch 75/100\n",
            "1/1 [==============================] - 0s 9ms/step - loss: 7.0256 - mae: 7.0256\n",
            "Epoch 76/100\n",
            "1/1 [==============================] - 0s 8ms/step - loss: 7.0200 - mae: 7.0200\n",
            "Epoch 77/100\n",
            "1/1 [==============================] - 0s 9ms/step - loss: 7.0144 - mae: 7.0144\n",
            "Epoch 78/100\n",
            "1/1 [==============================] - 0s 9ms/step - loss: 7.0087 - mae: 7.0087\n",
            "Epoch 79/100\n",
            "1/1 [==============================] - 0s 9ms/step - loss: 7.0031 - mae: 7.0031\n",
            "Epoch 80/100\n",
            "1/1 [==============================] - 0s 10ms/step - loss: 6.9975 - mae: 6.9975\n",
            "Epoch 81/100\n",
            "1/1 [==============================] - 0s 10ms/step - loss: 6.9919 - mae: 6.9919\n",
            "Epoch 82/100\n",
            "1/1 [==============================] - 0s 9ms/step - loss: 6.9863 - mae: 6.9863\n",
            "Epoch 83/100\n",
            "1/1 [==============================] - 0s 10ms/step - loss: 6.9806 - mae: 6.9806\n",
            "Epoch 84/100\n",
            "1/1 [==============================] - 0s 9ms/step - loss: 6.9750 - mae: 6.9750\n",
            "Epoch 85/100\n",
            "1/1 [==============================] - 0s 9ms/step - loss: 6.9694 - mae: 6.9694\n",
            "Epoch 86/100\n",
            "1/1 [==============================] - 0s 10ms/step - loss: 6.9638 - mae: 6.9638\n",
            "Epoch 87/100\n",
            "1/1 [==============================] - 0s 9ms/step - loss: 6.9581 - mae: 6.9581\n",
            "Epoch 88/100\n",
            "1/1 [==============================] - 0s 9ms/step - loss: 6.9525 - mae: 6.9525\n",
            "Epoch 89/100\n",
            "1/1 [==============================] - 0s 9ms/step - loss: 6.9469 - mae: 6.9469\n",
            "Epoch 90/100\n",
            "1/1 [==============================] - 0s 11ms/step - loss: 6.9412 - mae: 6.9412\n",
            "Epoch 91/100\n",
            "1/1 [==============================] - 0s 12ms/step - loss: 6.9356 - mae: 6.9356\n",
            "Epoch 92/100\n",
            "1/1 [==============================] - 0s 9ms/step - loss: 6.9300 - mae: 6.9300\n",
            "Epoch 93/100\n",
            "1/1 [==============================] - 0s 13ms/step - loss: 6.9244 - mae: 6.9244\n",
            "Epoch 94/100\n",
            "1/1 [==============================] - 0s 11ms/step - loss: 6.9188 - mae: 6.9188\n",
            "Epoch 95/100\n",
            "1/1 [==============================] - 0s 13ms/step - loss: 6.9131 - mae: 6.9131\n",
            "Epoch 96/100\n",
            "1/1 [==============================] - 0s 14ms/step - loss: 6.9075 - mae: 6.9075\n",
            "Epoch 97/100\n",
            "1/1 [==============================] - 0s 12ms/step - loss: 6.9019 - mae: 6.9019\n",
            "Epoch 98/100\n",
            "1/1 [==============================] - 0s 10ms/step - loss: 6.8963 - mae: 6.8963\n",
            "Epoch 99/100\n",
            "1/1 [==============================] - 0s 8ms/step - loss: 6.8906 - mae: 6.8906\n",
            "Epoch 100/100\n",
            "1/1 [==============================] - 0s 10ms/step - loss: 6.8850 - mae: 6.8850\n"
          ]
        },
        {
          "output_type": "execute_result",
          "data": {
            "text/plain": [
              "<keras.callbacks.History at 0x7f82661df9d0>"
            ]
          },
          "metadata": {},
          "execution_count": 6
        }
      ],
      "source": [
        "#improving our model(Rebuilding our model)\n",
        "\n",
        "# 1.Creating the model\n",
        "model = tf.keras.Sequential([\n",
        "    tf.keras.layers.Dense(1)\n",
        "])\n",
        "\n",
        "# 2. Compiling the model (mae - mean absolute error)\n",
        "\n",
        "model.compile(loss = tf.keras.losses.mae, optimizer = tf.keras.optimizers.SGD(),metrics=[\"mae\"])\n",
        "\n",
        "# 3. Fit the model (train for longer epochs)\n",
        "\n",
        "model.fit(tf.expand_dims(X,axis = -1),y,epochs = 100)\n"
      ]
    },
    {
      "cell_type": "code",
      "execution_count": 7,
      "metadata": {
        "colab": {
          "base_uri": "https://localhost:8080/"
        },
        "id": "0noxaeBHtI-Q",
        "outputId": "34e09bc2-7a7f-4c14-a17f-61575bdf823e"
      },
      "outputs": [
        {
          "output_type": "execute_result",
          "data": {
            "text/plain": [
              "(<tf.Tensor: shape=(8,), dtype=float64, numpy=array([-7., -4., -1.,  2.,  5.,  8., 11., 14.])>,\n",
              " <tf.Tensor: shape=(8,), dtype=float64, numpy=array([ 3.,  6.,  9., 12., 15., 18., 21., 24.])>)"
            ]
          },
          "metadata": {},
          "execution_count": 7
        }
      ],
      "source": [
        "X,y"
      ]
    },
    {
      "cell_type": "code",
      "execution_count": 8,
      "metadata": {
        "colab": {
          "base_uri": "https://localhost:8080/"
        },
        "id": "Cxs5s2t-uKb0",
        "outputId": "a37bc0ad-e75a-4aaa-be91-5c0cd0a5a4ca"
      },
      "outputs": [
        {
          "output_type": "stream",
          "name": "stdout",
          "text": [
            "1/1 [==============================] - 0s 110ms/step\n"
          ]
        },
        {
          "output_type": "execute_result",
          "data": {
            "text/plain": [
              "array([[29.952263]], dtype=float32)"
            ]
          },
          "metadata": {},
          "execution_count": 8
        }
      ],
      "source": [
        " # model's prediction\n",
        "\n",
        "model.predict([17.0])"
      ]
    },
    {
      "cell_type": "code",
      "execution_count": 9,
      "metadata": {
        "colab": {
          "base_uri": "https://localhost:8080/"
        },
        "id": "oiQNEeiguTYc",
        "outputId": "afd46920-61bd-4bd0-d46e-727b9e7d88d7"
      },
      "outputs": [
        {
          "output_type": "stream",
          "name": "stdout",
          "text": [
            "Epoch 1/100\n",
            "1/1 [==============================] - 1s 967ms/step - loss: 13.5290 - mae: 13.5290\n",
            "Epoch 2/100\n",
            "1/1 [==============================] - 0s 17ms/step - loss: 13.4323 - mae: 13.4323\n",
            "Epoch 3/100\n",
            "1/1 [==============================] - 0s 17ms/step - loss: 13.3356 - mae: 13.3356\n",
            "Epoch 4/100\n",
            "1/1 [==============================] - 0s 10ms/step - loss: 13.2391 - mae: 13.2391\n",
            "Epoch 5/100\n",
            "1/1 [==============================] - 0s 10ms/step - loss: 13.1426 - mae: 13.1426\n",
            "Epoch 6/100\n",
            "1/1 [==============================] - 0s 11ms/step - loss: 13.0462 - mae: 13.0462\n",
            "Epoch 7/100\n",
            "1/1 [==============================] - 0s 10ms/step - loss: 12.9499 - mae: 12.9499\n",
            "Epoch 8/100\n",
            "1/1 [==============================] - 0s 10ms/step - loss: 12.8537 - mae: 12.8537\n",
            "Epoch 9/100\n",
            "1/1 [==============================] - 0s 10ms/step - loss: 12.7576 - mae: 12.7576\n",
            "Epoch 10/100\n",
            "1/1 [==============================] - 0s 10ms/step - loss: 12.6621 - mae: 12.6621\n",
            "Epoch 11/100\n",
            "1/1 [==============================] - 0s 11ms/step - loss: 12.5667 - mae: 12.5667\n",
            "Epoch 12/100\n",
            "1/1 [==============================] - 0s 10ms/step - loss: 12.4720 - mae: 12.4720\n",
            "Epoch 13/100\n",
            "1/1 [==============================] - 0s 10ms/step - loss: 12.3775 - mae: 12.3775\n",
            "Epoch 14/100\n",
            "1/1 [==============================] - 0s 10ms/step - loss: 12.2831 - mae: 12.2831\n",
            "Epoch 15/100\n",
            "1/1 [==============================] - 0s 10ms/step - loss: 12.1885 - mae: 12.1885\n",
            "Epoch 16/100\n",
            "1/1 [==============================] - 0s 11ms/step - loss: 12.0942 - mae: 12.0942\n",
            "Epoch 17/100\n",
            "1/1 [==============================] - 0s 9ms/step - loss: 12.0001 - mae: 12.0001\n",
            "Epoch 18/100\n",
            "1/1 [==============================] - 0s 9ms/step - loss: 11.9059 - mae: 11.9059\n",
            "Epoch 19/100\n",
            "1/1 [==============================] - 0s 9ms/step - loss: 11.8116 - mae: 11.8116\n",
            "Epoch 20/100\n",
            "1/1 [==============================] - 0s 10ms/step - loss: 11.7174 - mae: 11.7174\n",
            "Epoch 21/100\n",
            "1/1 [==============================] - 0s 10ms/step - loss: 11.6233 - mae: 11.6233\n",
            "Epoch 22/100\n",
            "1/1 [==============================] - 0s 10ms/step - loss: 11.5296 - mae: 11.5296\n",
            "Epoch 23/100\n",
            "1/1 [==============================] - 0s 10ms/step - loss: 11.4360 - mae: 11.4360\n",
            "Epoch 24/100\n",
            "1/1 [==============================] - 0s 10ms/step - loss: 11.3423 - mae: 11.3423\n",
            "Epoch 25/100\n",
            "1/1 [==============================] - 0s 9ms/step - loss: 11.2484 - mae: 11.2484\n",
            "Epoch 26/100\n",
            "1/1 [==============================] - 0s 10ms/step - loss: 11.1544 - mae: 11.1544\n",
            "Epoch 27/100\n",
            "1/1 [==============================] - 0s 10ms/step - loss: 11.0603 - mae: 11.0603\n",
            "Epoch 28/100\n",
            "1/1 [==============================] - 0s 9ms/step - loss: 10.9660 - mae: 10.9660\n",
            "Epoch 29/100\n",
            "1/1 [==============================] - 0s 10ms/step - loss: 10.8717 - mae: 10.8717\n",
            "Epoch 30/100\n",
            "1/1 [==============================] - 0s 10ms/step - loss: 10.7772 - mae: 10.7772\n",
            "Epoch 31/100\n",
            "1/1 [==============================] - 0s 14ms/step - loss: 10.6824 - mae: 10.6824\n",
            "Epoch 32/100\n",
            "1/1 [==============================] - 0s 10ms/step - loss: 10.5874 - mae: 10.5874\n",
            "Epoch 33/100\n",
            "1/1 [==============================] - 0s 10ms/step - loss: 10.4921 - mae: 10.4921\n",
            "Epoch 34/100\n",
            "1/1 [==============================] - 0s 10ms/step - loss: 10.3966 - mae: 10.3966\n",
            "Epoch 35/100\n",
            "1/1 [==============================] - 0s 10ms/step - loss: 10.3007 - mae: 10.3007\n",
            "Epoch 36/100\n",
            "1/1 [==============================] - 0s 10ms/step - loss: 10.2046 - mae: 10.2046\n",
            "Epoch 37/100\n",
            "1/1 [==============================] - 0s 10ms/step - loss: 10.1081 - mae: 10.1081\n",
            "Epoch 38/100\n",
            "1/1 [==============================] - 0s 10ms/step - loss: 10.0113 - mae: 10.0113\n",
            "Epoch 39/100\n",
            "1/1 [==============================] - 0s 9ms/step - loss: 9.9142 - mae: 9.9142\n",
            "Epoch 40/100\n",
            "1/1 [==============================] - 0s 10ms/step - loss: 9.8167 - mae: 9.8167\n",
            "Epoch 41/100\n",
            "1/1 [==============================] - 0s 11ms/step - loss: 9.7278 - mae: 9.7278\n",
            "Epoch 42/100\n",
            "1/1 [==============================] - 0s 16ms/step - loss: 9.6486 - mae: 9.6486\n",
            "Epoch 43/100\n",
            "1/1 [==============================] - 0s 10ms/step - loss: 9.5690 - mae: 9.5690\n",
            "Epoch 44/100\n",
            "1/1 [==============================] - 0s 8ms/step - loss: 9.4890 - mae: 9.4890\n",
            "Epoch 45/100\n",
            "1/1 [==============================] - 0s 9ms/step - loss: 9.4087 - mae: 9.4087\n",
            "Epoch 46/100\n",
            "1/1 [==============================] - 0s 10ms/step - loss: 9.3281 - mae: 9.3281\n",
            "Epoch 47/100\n",
            "1/1 [==============================] - 0s 10ms/step - loss: 9.2471 - mae: 9.2471\n",
            "Epoch 48/100\n",
            "1/1 [==============================] - 0s 14ms/step - loss: 9.1655 - mae: 9.1655\n",
            "Epoch 49/100\n",
            "1/1 [==============================] - 0s 12ms/step - loss: 9.0835 - mae: 9.0835\n",
            "Epoch 50/100\n",
            "1/1 [==============================] - 0s 13ms/step - loss: 9.0009 - mae: 9.0009\n",
            "Epoch 51/100\n",
            "1/1 [==============================] - 0s 13ms/step - loss: 8.9179 - mae: 8.9179\n",
            "Epoch 52/100\n",
            "1/1 [==============================] - 0s 10ms/step - loss: 8.8344 - mae: 8.8344\n",
            "Epoch 53/100\n",
            "1/1 [==============================] - 0s 10ms/step - loss: 8.7504 - mae: 8.7504\n",
            "Epoch 54/100\n",
            "1/1 [==============================] - 0s 9ms/step - loss: 8.6659 - mae: 8.6659\n",
            "Epoch 55/100\n",
            "1/1 [==============================] - 0s 9ms/step - loss: 8.5809 - mae: 8.5809\n",
            "Epoch 56/100\n",
            "1/1 [==============================] - 0s 9ms/step - loss: 8.4954 - mae: 8.4954\n",
            "Epoch 57/100\n",
            "1/1 [==============================] - 0s 9ms/step - loss: 8.4095 - mae: 8.4095\n",
            "Epoch 58/100\n",
            "1/1 [==============================] - 0s 9ms/step - loss: 8.3231 - mae: 8.3231\n",
            "Epoch 59/100\n",
            "1/1 [==============================] - 0s 9ms/step - loss: 8.2362 - mae: 8.2362\n",
            "Epoch 60/100\n",
            "1/1 [==============================] - 0s 10ms/step - loss: 8.1486 - mae: 8.1486\n",
            "Epoch 61/100\n",
            "1/1 [==============================] - 0s 9ms/step - loss: 8.0605 - mae: 8.0605\n",
            "Epoch 62/100\n",
            "1/1 [==============================] - 0s 10ms/step - loss: 7.9718 - mae: 7.9718\n",
            "Epoch 63/100\n",
            "1/1 [==============================] - 0s 10ms/step - loss: 7.8827 - mae: 7.8827\n",
            "Epoch 64/100\n",
            "1/1 [==============================] - 0s 10ms/step - loss: 7.7929 - mae: 7.7929\n",
            "Epoch 65/100\n",
            "1/1 [==============================] - 0s 9ms/step - loss: 7.7027 - mae: 7.7027\n",
            "Epoch 66/100\n",
            "1/1 [==============================] - 0s 10ms/step - loss: 7.6119 - mae: 7.6119\n",
            "Epoch 67/100\n",
            "1/1 [==============================] - 0s 10ms/step - loss: 7.5207 - mae: 7.5207\n",
            "Epoch 68/100\n",
            "1/1 [==============================] - 0s 12ms/step - loss: 7.4290 - mae: 7.4290\n",
            "Epoch 69/100\n",
            "1/1 [==============================] - 0s 14ms/step - loss: 7.3367 - mae: 7.3367\n",
            "Epoch 70/100\n",
            "1/1 [==============================] - 0s 11ms/step - loss: 7.2438 - mae: 7.2438\n",
            "Epoch 71/100\n",
            "1/1 [==============================] - 0s 11ms/step - loss: 7.1504 - mae: 7.1504\n",
            "Epoch 72/100\n",
            "1/1 [==============================] - 0s 11ms/step - loss: 7.0562 - mae: 7.0562\n",
            "Epoch 73/100\n",
            "1/1 [==============================] - 0s 11ms/step - loss: 6.9614 - mae: 6.9614\n",
            "Epoch 74/100\n",
            "1/1 [==============================] - 0s 12ms/step - loss: 6.8658 - mae: 6.8658\n",
            "Epoch 75/100\n",
            "1/1 [==============================] - 0s 17ms/step - loss: 6.7696 - mae: 6.7696\n",
            "Epoch 76/100\n",
            "1/1 [==============================] - 0s 13ms/step - loss: 6.6726 - mae: 6.6726\n",
            "Epoch 77/100\n",
            "1/1 [==============================] - 0s 14ms/step - loss: 6.5749 - mae: 6.5749\n",
            "Epoch 78/100\n",
            "1/1 [==============================] - 0s 12ms/step - loss: 6.4764 - mae: 6.4764\n",
            "Epoch 79/100\n",
            "1/1 [==============================] - 0s 10ms/step - loss: 6.3772 - mae: 6.3772\n",
            "Epoch 80/100\n",
            "1/1 [==============================] - 0s 10ms/step - loss: 6.2772 - mae: 6.2772\n",
            "Epoch 81/100\n",
            "1/1 [==============================] - 0s 13ms/step - loss: 6.1765 - mae: 6.1765\n",
            "Epoch 82/100\n",
            "1/1 [==============================] - 0s 11ms/step - loss: 6.0750 - mae: 6.0750\n",
            "Epoch 83/100\n",
            "1/1 [==============================] - 0s 10ms/step - loss: 5.9727 - mae: 5.9727\n",
            "Epoch 84/100\n",
            "1/1 [==============================] - 0s 16ms/step - loss: 5.8697 - mae: 5.8697\n",
            "Epoch 85/100\n",
            "1/1 [==============================] - 0s 12ms/step - loss: 5.7659 - mae: 5.7659\n",
            "Epoch 86/100\n",
            "1/1 [==============================] - 0s 10ms/step - loss: 5.6614 - mae: 5.6614\n",
            "Epoch 87/100\n",
            "1/1 [==============================] - 0s 11ms/step - loss: 5.5562 - mae: 5.5562\n",
            "Epoch 88/100\n",
            "1/1 [==============================] - 0s 17ms/step - loss: 5.4501 - mae: 5.4501\n",
            "Epoch 89/100\n",
            "1/1 [==============================] - 0s 20ms/step - loss: 5.3431 - mae: 5.3431\n",
            "Epoch 90/100\n",
            "1/1 [==============================] - 0s 12ms/step - loss: 5.2353 - mae: 5.2353\n",
            "Epoch 91/100\n",
            "1/1 [==============================] - 0s 17ms/step - loss: 5.1266 - mae: 5.1266\n",
            "Epoch 92/100\n",
            "1/1 [==============================] - 0s 10ms/step - loss: 5.0170 - mae: 5.0170\n",
            "Epoch 93/100\n",
            "1/1 [==============================] - 0s 13ms/step - loss: 4.9067 - mae: 4.9067\n",
            "Epoch 94/100\n",
            "1/1 [==============================] - 0s 13ms/step - loss: 4.7955 - mae: 4.7955\n",
            "Epoch 95/100\n",
            "1/1 [==============================] - 0s 12ms/step - loss: 4.6835 - mae: 4.6835\n",
            "Epoch 96/100\n",
            "1/1 [==============================] - 0s 11ms/step - loss: 4.5705 - mae: 4.5705\n",
            "Epoch 97/100\n",
            "1/1 [==============================] - 0s 12ms/step - loss: 4.4568 - mae: 4.4568\n",
            "Epoch 98/100\n",
            "1/1 [==============================] - 0s 11ms/step - loss: 4.3422 - mae: 4.3422\n",
            "Epoch 99/100\n",
            "1/1 [==============================] - 0s 11ms/step - loss: 4.2268 - mae: 4.2268\n",
            "Epoch 100/100\n",
            "1/1 [==============================] - 0s 13ms/step - loss: 4.1105 - mae: 4.1105\n"
          ]
        },
        {
          "output_type": "execute_result",
          "data": {
            "text/plain": [
              "<keras.callbacks.History at 0x7f82660e0ee0>"
            ]
          },
          "metadata": {},
          "execution_count": 9
        }
      ],
      "source": [
        "# 2. Creating the model and using Adam as optimizer\n",
        "\n",
        "model = tf.keras.Sequential([\n",
        "    tf.keras.layers.Dense(100,activation = \"relu\"),\n",
        "    tf.keras.layers.Dense(1)\n",
        "    ])\n",
        "\n",
        "#compile the model\n",
        "model.compile(loss = tf.keras.losses.mae,optimizer = tf.keras.optimizers.Adam(),metrics=[\"mae\"])\n",
        "\n",
        "# fitting the model\n",
        "\n",
        "model.fit(tf.expand_dims(X,axis = -1),y,epochs = 100)"
      ]
    },
    {
      "cell_type": "code",
      "execution_count": 10,
      "metadata": {
        "colab": {
          "base_uri": "https://localhost:8080/"
        },
        "id": "t9g7XdLh9gvI",
        "outputId": "65387ad4-f27a-4cad-d230-94f8113abcdf"
      },
      "outputs": [
        {
          "output_type": "stream",
          "name": "stdout",
          "text": [
            "1/1 [==============================] - 0s 83ms/step\n"
          ]
        },
        {
          "output_type": "execute_result",
          "data": {
            "text/plain": [
              "array([[28.889498]], dtype=float32)"
            ]
          },
          "metadata": {},
          "execution_count": 10
        }
      ],
      "source": [
        "model.predict([17.0])"
      ]
    },
    {
      "cell_type": "code",
      "execution_count": 11,
      "metadata": {
        "colab": {
          "base_uri": "https://localhost:8080/"
        },
        "id": "a22yIb669vYu",
        "outputId": "6c529bb3-f98f-4a85-dd0d-3b8d9e2612a7"
      },
      "outputs": [
        {
          "output_type": "stream",
          "name": "stdout",
          "text": [
            "Epoch 1/100\n",
            "1/1 [==============================] - 1s 651ms/step - loss: 13.9161 - mae: 13.9161\n",
            "Epoch 2/100\n",
            "1/1 [==============================] - 0s 12ms/step - loss: 13.2247 - mae: 13.2247\n",
            "Epoch 3/100\n",
            "1/1 [==============================] - 0s 12ms/step - loss: 12.5312 - mae: 12.5312\n",
            "Epoch 4/100\n",
            "1/1 [==============================] - 0s 15ms/step - loss: 11.8327 - mae: 11.8327\n",
            "Epoch 5/100\n",
            "1/1 [==============================] - 0s 12ms/step - loss: 11.1274 - mae: 11.1274\n",
            "Epoch 6/100\n",
            "1/1 [==============================] - 0s 10ms/step - loss: 10.4138 - mae: 10.4138\n",
            "Epoch 7/100\n",
            "1/1 [==============================] - 0s 11ms/step - loss: 9.6897 - mae: 9.6897\n",
            "Epoch 8/100\n",
            "1/1 [==============================] - 0s 11ms/step - loss: 8.9527 - mae: 8.9527\n",
            "Epoch 9/100\n",
            "1/1 [==============================] - 0s 11ms/step - loss: 8.1995 - mae: 8.1995\n",
            "Epoch 10/100\n",
            "1/1 [==============================] - 0s 10ms/step - loss: 7.4265 - mae: 7.4265\n",
            "Epoch 11/100\n",
            "1/1 [==============================] - 0s 11ms/step - loss: 6.7228 - mae: 6.7228\n",
            "Epoch 12/100\n",
            "1/1 [==============================] - 0s 12ms/step - loss: 6.7417 - mae: 6.7417\n",
            "Epoch 13/100\n",
            "1/1 [==============================] - 0s 9ms/step - loss: 7.0369 - mae: 7.0369\n",
            "Epoch 14/100\n",
            "1/1 [==============================] - 0s 11ms/step - loss: 7.2172 - mae: 7.2172\n",
            "Epoch 15/100\n",
            "1/1 [==============================] - 0s 11ms/step - loss: 7.3911 - mae: 7.3911\n",
            "Epoch 16/100\n",
            "1/1 [==============================] - 0s 10ms/step - loss: 7.3621 - mae: 7.3621\n",
            "Epoch 17/100\n",
            "1/1 [==============================] - 0s 12ms/step - loss: 7.1584 - mae: 7.1584\n",
            "Epoch 18/100\n",
            "1/1 [==============================] - 0s 11ms/step - loss: 6.8829 - mae: 6.8829\n",
            "Epoch 19/100\n",
            "1/1 [==============================] - 0s 11ms/step - loss: 6.6378 - mae: 6.6378\n",
            "Epoch 20/100\n",
            "1/1 [==============================] - 0s 11ms/step - loss: 6.3721 - mae: 6.3721\n",
            "Epoch 21/100\n",
            "1/1 [==============================] - 0s 11ms/step - loss: 6.0905 - mae: 6.0905\n",
            "Epoch 22/100\n",
            "1/1 [==============================] - 0s 11ms/step - loss: 6.0033 - mae: 6.0033\n",
            "Epoch 23/100\n",
            "1/1 [==============================] - 0s 11ms/step - loss: 5.9560 - mae: 5.9560\n",
            "Epoch 24/100\n",
            "1/1 [==============================] - 0s 11ms/step - loss: 6.1419 - mae: 6.1419\n",
            "Epoch 25/100\n",
            "1/1 [==============================] - 0s 10ms/step - loss: 6.2082 - mae: 6.2082\n",
            "Epoch 26/100\n",
            "1/1 [==============================] - 0s 15ms/step - loss: 6.1690 - mae: 6.1690\n",
            "Epoch 27/100\n",
            "1/1 [==============================] - 0s 18ms/step - loss: 6.0374 - mae: 6.0374\n",
            "Epoch 28/100\n",
            "1/1 [==============================] - 0s 12ms/step - loss: 5.8227 - mae: 5.8227\n",
            "Epoch 29/100\n",
            "1/1 [==============================] - 0s 17ms/step - loss: 5.5317 - mae: 5.5317\n",
            "Epoch 30/100\n",
            "1/1 [==============================] - 0s 11ms/step - loss: 5.3640 - mae: 5.3640\n",
            "Epoch 31/100\n",
            "1/1 [==============================] - 0s 10ms/step - loss: 5.2454 - mae: 5.2454\n",
            "Epoch 32/100\n",
            "1/1 [==============================] - 0s 11ms/step - loss: 5.2778 - mae: 5.2778\n",
            "Epoch 33/100\n",
            "1/1 [==============================] - 0s 14ms/step - loss: 5.2930 - mae: 5.2930\n",
            "Epoch 34/100\n",
            "1/1 [==============================] - 0s 13ms/step - loss: 5.2598 - mae: 5.2598\n",
            "Epoch 35/100\n",
            "1/1 [==============================] - 0s 11ms/step - loss: 5.1819 - mae: 5.1819\n",
            "Epoch 36/100\n",
            "1/1 [==============================] - 0s 11ms/step - loss: 5.0629 - mae: 5.0629\n",
            "Epoch 37/100\n",
            "1/1 [==============================] - 0s 12ms/step - loss: 4.9064 - mae: 4.9064\n",
            "Epoch 38/100\n",
            "1/1 [==============================] - 0s 11ms/step - loss: 4.7159 - mae: 4.7159\n",
            "Epoch 39/100\n",
            "1/1 [==============================] - 0s 11ms/step - loss: 4.4943 - mae: 4.4943\n",
            "Epoch 40/100\n",
            "1/1 [==============================] - 0s 11ms/step - loss: 4.3068 - mae: 4.3068\n",
            "Epoch 41/100\n",
            "1/1 [==============================] - 0s 11ms/step - loss: 4.2075 - mae: 4.2075\n",
            "Epoch 42/100\n",
            "1/1 [==============================] - 0s 10ms/step - loss: 4.1230 - mae: 4.1230\n",
            "Epoch 43/100\n",
            "1/1 [==============================] - 0s 10ms/step - loss: 4.0376 - mae: 4.0376\n",
            "Epoch 44/100\n",
            "1/1 [==============================] - 0s 10ms/step - loss: 3.8324 - mae: 3.8324\n",
            "Epoch 45/100\n",
            "1/1 [==============================] - 0s 11ms/step - loss: 3.6591 - mae: 3.6591\n",
            "Epoch 46/100\n",
            "1/1 [==============================] - 0s 10ms/step - loss: 3.4871 - mae: 3.4871\n",
            "Epoch 47/100\n",
            "1/1 [==============================] - 0s 11ms/step - loss: 3.4244 - mae: 3.4244\n",
            "Epoch 48/100\n",
            "1/1 [==============================] - 0s 10ms/step - loss: 3.3232 - mae: 3.3232\n",
            "Epoch 49/100\n",
            "1/1 [==============================] - 0s 11ms/step - loss: 3.1691 - mae: 3.1691\n",
            "Epoch 50/100\n",
            "1/1 [==============================] - 0s 11ms/step - loss: 2.9648 - mae: 2.9648\n",
            "Epoch 51/100\n",
            "1/1 [==============================] - 0s 12ms/step - loss: 2.7131 - mae: 2.7131\n",
            "Epoch 52/100\n",
            "1/1 [==============================] - 0s 12ms/step - loss: 2.4599 - mae: 2.4599\n",
            "Epoch 53/100\n",
            "1/1 [==============================] - 0s 12ms/step - loss: 2.2817 - mae: 2.2817\n",
            "Epoch 54/100\n",
            "1/1 [==============================] - 0s 12ms/step - loss: 2.2109 - mae: 2.2109\n",
            "Epoch 55/100\n",
            "1/1 [==============================] - 0s 13ms/step - loss: 1.9898 - mae: 1.9898\n",
            "Epoch 56/100\n",
            "1/1 [==============================] - 0s 12ms/step - loss: 1.6350 - mae: 1.6350\n",
            "Epoch 57/100\n",
            "1/1 [==============================] - 0s 12ms/step - loss: 1.4050 - mae: 1.4050\n",
            "Epoch 58/100\n",
            "1/1 [==============================] - 0s 10ms/step - loss: 1.2092 - mae: 1.2092\n",
            "Epoch 59/100\n",
            "1/1 [==============================] - 0s 11ms/step - loss: 0.9466 - mae: 0.9466\n",
            "Epoch 60/100\n",
            "1/1 [==============================] - 0s 12ms/step - loss: 0.6441 - mae: 0.6441\n",
            "Epoch 61/100\n",
            "1/1 [==============================] - 0s 12ms/step - loss: 0.4590 - mae: 0.4590\n",
            "Epoch 62/100\n",
            "1/1 [==============================] - 0s 11ms/step - loss: 0.1160 - mae: 0.1160\n",
            "Epoch 63/100\n",
            "1/1 [==============================] - 0s 11ms/step - loss: 0.3993 - mae: 0.3993\n",
            "Epoch 64/100\n",
            "1/1 [==============================] - 0s 12ms/step - loss: 0.6511 - mae: 0.6511\n",
            "Epoch 65/100\n",
            "1/1 [==============================] - 0s 11ms/step - loss: 0.6642 - mae: 0.6642\n",
            "Epoch 66/100\n",
            "1/1 [==============================] - 0s 11ms/step - loss: 0.7971 - mae: 0.7971\n",
            "Epoch 67/100\n",
            "1/1 [==============================] - 0s 11ms/step - loss: 0.9364 - mae: 0.9364\n",
            "Epoch 68/100\n",
            "1/1 [==============================] - 0s 11ms/step - loss: 0.8435 - mae: 0.8435\n",
            "Epoch 69/100\n",
            "1/1 [==============================] - 0s 13ms/step - loss: 0.7879 - mae: 0.7879\n",
            "Epoch 70/100\n",
            "1/1 [==============================] - 0s 11ms/step - loss: 0.7574 - mae: 0.7574\n",
            "Epoch 71/100\n",
            "1/1 [==============================] - 0s 11ms/step - loss: 0.6751 - mae: 0.6751\n",
            "Epoch 72/100\n",
            "1/1 [==============================] - 0s 12ms/step - loss: 0.6022 - mae: 0.6022\n",
            "Epoch 73/100\n",
            "1/1 [==============================] - 0s 11ms/step - loss: 0.4281 - mae: 0.4281\n",
            "Epoch 74/100\n",
            "1/1 [==============================] - 0s 11ms/step - loss: 0.3700 - mae: 0.3700\n",
            "Epoch 75/100\n",
            "1/1 [==============================] - 0s 11ms/step - loss: 0.1532 - mae: 0.1532\n",
            "Epoch 76/100\n",
            "1/1 [==============================] - 0s 12ms/step - loss: 0.2749 - mae: 0.2749\n",
            "Epoch 77/100\n",
            "1/1 [==============================] - 0s 11ms/step - loss: 0.3178 - mae: 0.3178\n",
            "Epoch 78/100\n",
            "1/1 [==============================] - 0s 10ms/step - loss: 0.2954 - mae: 0.2954\n",
            "Epoch 79/100\n",
            "1/1 [==============================] - 0s 9ms/step - loss: 0.4105 - mae: 0.4105\n",
            "Epoch 80/100\n",
            "1/1 [==============================] - 0s 12ms/step - loss: 0.3878 - mae: 0.3878\n",
            "Epoch 81/100\n",
            "1/1 [==============================] - 0s 9ms/step - loss: 0.4850 - mae: 0.4850\n",
            "Epoch 82/100\n",
            "1/1 [==============================] - 0s 11ms/step - loss: 0.4542 - mae: 0.4542\n",
            "Epoch 83/100\n",
            "1/1 [==============================] - 0s 10ms/step - loss: 0.3142 - mae: 0.3142\n",
            "Epoch 84/100\n",
            "1/1 [==============================] - 0s 9ms/step - loss: 0.2833 - mae: 0.2833\n",
            "Epoch 85/100\n",
            "1/1 [==============================] - 0s 9ms/step - loss: 0.1527 - mae: 0.1527\n",
            "Epoch 86/100\n",
            "1/1 [==============================] - 0s 9ms/step - loss: 0.0634 - mae: 0.0634\n",
            "Epoch 87/100\n",
            "1/1 [==============================] - 0s 12ms/step - loss: 0.2158 - mae: 0.2158\n",
            "Epoch 88/100\n",
            "1/1 [==============================] - 0s 10ms/step - loss: 0.2105 - mae: 0.2105\n",
            "Epoch 89/100\n",
            "1/1 [==============================] - 0s 10ms/step - loss: 0.3627 - mae: 0.3627\n",
            "Epoch 90/100\n",
            "1/1 [==============================] - 0s 11ms/step - loss: 0.4200 - mae: 0.4200\n",
            "Epoch 91/100\n",
            "1/1 [==============================] - 0s 9ms/step - loss: 0.3086 - mae: 0.3086\n",
            "Epoch 92/100\n",
            "1/1 [==============================] - 0s 9ms/step - loss: 0.3256 - mae: 0.3256\n",
            "Epoch 93/100\n",
            "1/1 [==============================] - 0s 9ms/step - loss: 0.3097 - mae: 0.3097\n",
            "Epoch 94/100\n",
            "1/1 [==============================] - 0s 10ms/step - loss: 0.0729 - mae: 0.0729\n",
            "Epoch 95/100\n",
            "1/1 [==============================] - 0s 10ms/step - loss: 0.0432 - mae: 0.0432\n",
            "Epoch 96/100\n",
            "1/1 [==============================] - 0s 9ms/step - loss: 0.2168 - mae: 0.2168\n",
            "Epoch 97/100\n",
            "1/1 [==============================] - 0s 9ms/step - loss: 0.2290 - mae: 0.2290\n",
            "Epoch 98/100\n",
            "1/1 [==============================] - 0s 10ms/step - loss: 0.1560 - mae: 0.1560\n",
            "Epoch 99/100\n",
            "1/1 [==============================] - 0s 9ms/step - loss: 0.1489 - mae: 0.1489\n",
            "Epoch 100/100\n",
            "1/1 [==============================] - 0s 9ms/step - loss: 0.1661 - mae: 0.1661\n"
          ]
        },
        {
          "output_type": "execute_result",
          "data": {
            "text/plain": [
              "<keras.callbacks.History at 0x7f8266003400>"
            ]
          },
          "metadata": {},
          "execution_count": 11
        }
      ],
      "source": [
        "# New Model\n",
        "\n",
        "#1 Creating the model\n",
        "\n",
        "model = tf.keras.Sequential([\n",
        "    tf.keras.layers.Dense(50,activation=None),\n",
        "    tf.keras.layers.Dense(1)\n",
        "])\n",
        "\n",
        "#2. Compile the model\n",
        "\n",
        "model.compile(loss = \"mae\",optimizer = tf.optimizers.Adam(learning_rate=0.01),metrics=[\"mae\"])\n",
        "\n",
        "# 3.Fit the model\n",
        "model.fit(tf.expand_dims(X,axis = -1),y,epochs = 100)"
      ]
    },
    {
      "cell_type": "code",
      "execution_count": 12,
      "metadata": {
        "colab": {
          "base_uri": "https://localhost:8080/"
        },
        "id": "MWqfKPr-CR_v",
        "outputId": "8efe619f-c0d8-4812-ee83-ef02cb17ac91"
      },
      "outputs": [
        {
          "output_type": "stream",
          "name": "stdout",
          "text": [
            "1/1 [==============================] - 0s 76ms/step\n"
          ]
        },
        {
          "output_type": "execute_result",
          "data": {
            "text/plain": [
              "array([[26.732096]], dtype=float32)"
            ]
          },
          "metadata": {},
          "execution_count": 12
        }
      ],
      "source": [
        "model.predict([17.0])"
      ]
    },
    {
      "cell_type": "markdown",
      "metadata": {
        "id": "nWOh6kJbS7-C"
      },
      "source": [
        "## Evaluating the model"
      ]
    },
    {
      "cell_type": "markdown",
      "metadata": {
        "id": "0gzyIYVR-XN4"
      },
      "source": [
        "building -> fitting -> evaluating ....\n",
        "\n",
        "evaluate implies visualize"
      ]
    },
    {
      "cell_type": "markdown",
      "metadata": {
        "id": "uNwWeHA_XzI-"
      },
      "source": [
        "# build->fit->tweak the model\n",
        "# evaluating -> visualize\n",
        "\n",
        "Visualizing:\n",
        "\n",
        " * the data - what data are we working with\n",
        "\n",
        " * the model itself - what does our model look like?\n",
        "\n",
        " * the training of a model - how does a model perform whille it learns?\n",
        "\n",
        " the predictions: how do the prdictions of a model line up against the ground truth(the original labels)?"
      ]
    },
    {
      "cell_type": "code",
      "execution_count": 13,
      "metadata": {
        "colab": {
          "base_uri": "https://localhost:8080/"
        },
        "id": "nb6crvjWCi8X",
        "outputId": "f6764e58-02e2-4b1c-f70f-45958d1641d6"
      },
      "outputs": [
        {
          "output_type": "execute_result",
          "data": {
            "text/plain": [
              "(<tf.Tensor: shape=(50,), dtype=int32, numpy=\n",
              " array([-100,  -96,  -92,  -88,  -84,  -80,  -76,  -72,  -68,  -64,  -60,\n",
              "         -56,  -52,  -48,  -44,  -40,  -36,  -32,  -28,  -24,  -20,  -16,\n",
              "         -12,   -8,   -4,    0,    4,    8,   12,   16,   20,   24,   28,\n",
              "          32,   36,   40,   44,   48,   52,   56,   60,   64,   68,   72,\n",
              "          76,   80,   84,   88,   92,   96], dtype=int32)>,\n",
              " <tf.Tensor: shape=(50,), dtype=int32, numpy=\n",
              " array([-90, -86, -82, -78, -74, -70, -66, -62, -58, -54, -50, -46, -42,\n",
              "        -38, -34, -30, -26, -22, -18, -14, -10,  -6,  -2,   2,   6,  10,\n",
              "         14,  18,  22,  26,  30,  34,  38,  42,  46,  50,  54,  58,  62,\n",
              "         66,  70,  74,  78,  82,  86,  90,  94,  98, 102, 106], dtype=int32)>)"
            ]
          },
          "metadata": {},
          "execution_count": 13
        }
      ],
      "source": [
        "# Make a bigger dataset\n",
        "X = tf.range(-100,100,4)\n",
        "y = X+10\n",
        "X,y"
      ]
    },
    {
      "cell_type": "code",
      "execution_count": 14,
      "metadata": {
        "colab": {
          "base_uri": "https://localhost:8080/",
          "height": 447
        },
        "id": "iw9uqWyvpYnK",
        "outputId": "56aa2da2-6ad2-4bbb-a2aa-a000db27010a"
      },
      "outputs": [
        {
          "output_type": "execute_result",
          "data": {
            "text/plain": [
              "<matplotlib.collections.PathCollection at 0x7f82645aed10>"
            ]
          },
          "metadata": {},
          "execution_count": 14
        },
        {
          "output_type": "display_data",
          "data": {
            "text/plain": [
              "<Figure size 640x480 with 1 Axes>"
            ],
            "image/png": "[encoded data removed]"
          },
          "metadata": {}
        }
      ],
      "source": [
        "import matplotlib.pyplot as plt\n",
        "\n",
        "plt.scatter(X,y)"
      ]
    },
    {
      "cell_type": "markdown",
      "metadata": {
        "id": "gooRxyM6tXuk"
      },
      "source": [
        "## The 3 sets:\n",
        "\n",
        "* Training set: model learns from the data, whihc is typically 70-80 percent of the total data available\n",
        "\n",
        "* Validation Set: model gets tuned on this data, 10-15 percent is used for tuning.\n",
        "\n",
        "* Test Set: model gets evaluated to test what it has learned. 10-15 percent"
      ]
    },
    {
      "cell_type": "code",
      "execution_count": 15,
      "metadata": {
        "colab": {
          "base_uri": "https://localhost:8080/"
        },
        "id": "zxjn0bJVqRwR",
        "outputId": "9b29ff6f-a875-484a-8c79-65f0a3ee8e41"
      },
      "outputs": [
        {
          "output_type": "execute_result",
          "data": {
            "text/plain": [
              "50"
            ]
          },
          "metadata": {},
          "execution_count": 15
        }
      ],
      "source": [
        "len(X)"
      ]
    },
    {
      "cell_type": "code",
      "execution_count": 16,
      "metadata": {
        "colab": {
          "base_uri": "https://localhost:8080/"
        },
        "id": "ETSI_eZ4uRlS",
        "outputId": "d418afc3-d3f4-4a37-95e6-20c27c1cb0ce"
      },
      "outputs": [
        {
          "output_type": "execute_result",
          "data": {
            "text/plain": [
              "(40, 10, 40, 10)"
            ]
          },
          "metadata": {},
          "execution_count": 16
        }
      ],
      "source": [
        "#split the data to train and test sets\n",
        "\n",
        "X_train = X[:40]#(80 percent of the data)\n",
        "y_train = y[:40]\n",
        "X_test = X[40:]#(last 20 percent of the data)\n",
        "y_test= y[40:]\n",
        "\n",
        "len(X_train),len(X_test),len(y_train),len(y_test)"
      ]
    },
    {
      "cell_type": "markdown",
      "metadata": {
        "id": "z_MLWQKzwIg6"
      },
      "source": [
        "### Visualizing the data\n",
        "\n",
        "\n",
        "\n"
      ]
    },
    {
      "cell_type": "code",
      "execution_count": 17,
      "metadata": {
        "colab": {
          "base_uri": "https://localhost:8080/",
          "height": 485
        },
        "id": "iR086sObwm9l",
        "outputId": "f20748b9-8498-4930-9737-b68674a34a65"
      },
      "outputs": [
        {
          "output_type": "execute_result",
          "data": {
            "text/plain": [
              "<matplotlib.legend.Legend at 0x7f8264675f90>"
            ]
          },
          "metadata": {},
          "execution_count": 17
        },
        {
          "output_type": "display_data",
          "data": {
            "text/plain": [
              "<Figure size 1000x700 with 1 Axes>"
            ],
            "image/png": "[encoded data removed]"
          },
          "metadata": {}
        }
      ],
      "source": [
        "plt.figure(figsize=(10,7))\n",
        "\n",
        "#plot training data in red\n",
        "plt.scatter(X_train,y_train,c=\"r\",label=\"training_data\")\n",
        "plt.scatter(X_test,y_test,c=\"b\",label = \"testing_data\")\n",
        "plt.legend()"
      ]
    },
    {
      "cell_type": "markdown",
      "metadata": {
        "id": "jUFCU6e4xh8a"
      },
      "source": [
        "#building a neural network for our data"
      ]
    },
    {
      "cell_type": "code",
      "execution_count": 18,
      "metadata": {
        "id": "zYPkZesGB1jt"
      },
      "outputs": [],
      "source": [
        "# 1. Create model for our tensor\n",
        "\n",
        "model = tf.keras.Sequential([tf.keras.layers.Dense(1)])\n",
        "\n",
        "#2. Compile the model\n",
        "\n",
        "model.compile(loss=tf.keras.losses.mae,optimizer = tf.keras.optimizers.SGD(),metrics=[\"mae\"])\n",
        "\n",
        "#3. Fit the model\n",
        "\n",
        "# model.fit(X_train,y_train,epochs=100)"
      ]
    },
    {
      "cell_type": "code",
      "execution_count": 19,
      "metadata": {
        "colab": {
          "base_uri": "https://localhost:8080/"
        },
        "id": "wDiJNTDBC8s1",
        "outputId": "c05a7621-677c-4b8f-ad69-5c4f3c43c589"
      },
      "outputs": [
        {
          "output_type": "stream",
          "name": "stdout",
          "text": [
            "Epoch 1/100\n",
            "2/2 [==============================] - 0s 13ms/step - loss: 13.6980 - mae: 13.6980\n",
            "Epoch 2/100\n",
            "2/2 [==============================] - 0s 7ms/step - loss: 13.4599 - mae: 13.4599\n",
            "Epoch 3/100\n",
            "2/2 [==============================] - 0s 7ms/step - loss: 12.2314 - mae: 12.2314\n",
            "Epoch 4/100\n",
            "2/2 [==============================] - 0s 7ms/step - loss: 9.3482 - mae: 9.3482\n",
            "Epoch 5/100\n",
            "2/2 [==============================] - 0s 6ms/step - loss: 10.2252 - mae: 10.2252\n",
            "Epoch 6/100\n",
            "2/2 [==============================] - 0s 7ms/step - loss: 9.4802 - mae: 9.4802\n",
            "Epoch 7/100\n",
            "2/2 [==============================] - 0s 8ms/step - loss: 8.6115 - mae: 8.6115\n",
            "Epoch 8/100\n",
            "2/2 [==============================] - 0s 6ms/step - loss: 9.0433 - mae: 9.0433\n",
            "Epoch 9/100\n",
            "2/2 [==============================] - 0s 9ms/step - loss: 18.8631 - mae: 18.8631\n",
            "Epoch 10/100\n",
            "2/2 [==============================] - 0s 8ms/step - loss: 10.1730 - mae: 10.1730\n",
            "Epoch 11/100\n",
            "2/2 [==============================] - 0s 7ms/step - loss: 8.4181 - mae: 8.4181\n",
            "Epoch 12/100\n",
            "2/2 [==============================] - 0s 8ms/step - loss: 10.7100 - mae: 10.7100\n",
            "Epoch 13/100\n",
            "2/2 [==============================] - 0s 7ms/step - loss: 9.8132 - mae: 9.8132\n",
            "Epoch 14/100\n",
            "2/2 [==============================] - 0s 6ms/step - loss: 16.1296 - mae: 16.1296\n",
            "Epoch 15/100\n",
            "2/2 [==============================] - 0s 8ms/step - loss: 11.3076 - mae: 11.3076\n",
            "Epoch 16/100\n",
            "2/2 [==============================] - 0s 6ms/step - loss: 8.5635 - mae: 8.5635\n",
            "Epoch 17/100\n",
            "2/2 [==============================] - 0s 9ms/step - loss: 13.6958 - mae: 13.6958\n",
            "Epoch 18/100\n",
            "2/2 [==============================] - 0s 7ms/step - loss: 11.5404 - mae: 11.5404\n",
            "Epoch 19/100\n",
            "2/2 [==============================] - 0s 7ms/step - loss: 17.8124 - mae: 17.8124\n",
            "Epoch 20/100\n",
            "2/2 [==============================] - 0s 7ms/step - loss: 14.9478 - mae: 14.9478\n",
            "Epoch 21/100\n",
            "2/2 [==============================] - 0s 8ms/step - loss: 10.8306 - mae: 10.8306\n",
            "Epoch 22/100\n",
            "2/2 [==============================] - 0s 8ms/step - loss: 8.5801 - mae: 8.5801\n",
            "Epoch 23/100\n",
            "2/2 [==============================] - 0s 7ms/step - loss: 9.7134 - mae: 9.7134\n",
            "Epoch 24/100\n",
            "2/2 [==============================] - 0s 7ms/step - loss: 10.9424 - mae: 10.9424\n",
            "Epoch 25/100\n",
            "2/2 [==============================] - 0s 8ms/step - loss: 9.1508 - mae: 9.1508\n",
            "Epoch 26/100\n",
            "2/2 [==============================] - 0s 7ms/step - loss: 13.1798 - mae: 13.1798\n",
            "Epoch 27/100\n",
            "2/2 [==============================] - 0s 7ms/step - loss: 10.6533 - mae: 10.6533\n",
            "Epoch 28/100\n",
            "2/2 [==============================] - 0s 8ms/step - loss: 12.8704 - mae: 12.8704\n",
            "Epoch 29/100\n",
            "2/2 [==============================] - 0s 7ms/step - loss: 9.5018 - mae: 9.5018\n",
            "Epoch 30/100\n",
            "2/2 [==============================] - 0s 10ms/step - loss: 16.3906 - mae: 16.3906\n",
            "Epoch 31/100\n",
            "2/2 [==============================] - 0s 6ms/step - loss: 23.5931 - mae: 23.5931\n",
            "Epoch 32/100\n",
            "2/2 [==============================] - 0s 6ms/step - loss: 7.6058 - mae: 7.6058\n",
            "Epoch 33/100\n",
            "2/2 [==============================] - 0s 7ms/step - loss: 9.3040 - mae: 9.3040\n",
            "Epoch 34/100\n",
            "2/2 [==============================] - 0s 7ms/step - loss: 13.6886 - mae: 13.6886\n",
            "Epoch 35/100\n",
            "2/2 [==============================] - 0s 7ms/step - loss: 11.1416 - mae: 11.1416\n",
            "Epoch 36/100\n",
            "2/2 [==============================] - 0s 6ms/step - loss: 13.3588 - mae: 13.3588\n",
            "Epoch 37/100\n",
            "2/2 [==============================] - 0s 6ms/step - loss: 9.4523 - mae: 9.4523\n",
            "Epoch 38/100\n",
            "2/2 [==============================] - 0s 9ms/step - loss: 10.1066 - mae: 10.1066\n",
            "Epoch 39/100\n",
            "2/2 [==============================] - 0s 7ms/step - loss: 10.1936 - mae: 10.1936\n",
            "Epoch 40/100\n",
            "2/2 [==============================] - 0s 8ms/step - loss: 10.9366 - mae: 10.9366\n",
            "Epoch 41/100\n",
            "2/2 [==============================] - 0s 7ms/step - loss: 7.9124 - mae: 7.9124\n",
            "Epoch 42/100\n",
            "2/2 [==============================] - 0s 6ms/step - loss: 10.5847 - mae: 10.5847\n",
            "Epoch 43/100\n",
            "2/2 [==============================] - 0s 8ms/step - loss: 7.2034 - mae: 7.2034\n",
            "Epoch 44/100\n",
            "2/2 [==============================] - 0s 6ms/step - loss: 7.9955 - mae: 7.9955\n",
            "Epoch 45/100\n",
            "2/2 [==============================] - 0s 9ms/step - loss: 9.7903 - mae: 9.7903\n",
            "Epoch 46/100\n",
            "2/2 [==============================] - 0s 6ms/step - loss: 8.8675 - mae: 8.8675\n",
            "Epoch 47/100\n",
            "2/2 [==============================] - 0s 6ms/step - loss: 7.5643 - mae: 7.5643\n",
            "Epoch 48/100\n",
            "2/2 [==============================] - 0s 8ms/step - loss: 8.5583 - mae: 8.5583\n",
            "Epoch 49/100\n",
            "2/2 [==============================] - 0s 6ms/step - loss: 9.9969 - mae: 9.9969\n",
            "Epoch 50/100\n",
            "2/2 [==============================] - 0s 8ms/step - loss: 9.0090 - mae: 9.0090\n",
            "Epoch 51/100\n",
            "2/2 [==============================] - 0s 9ms/step - loss: 10.6680 - mae: 10.6680\n",
            "Epoch 52/100\n",
            "2/2 [==============================] - 0s 8ms/step - loss: 15.2835 - mae: 15.2835\n",
            "Epoch 53/100\n",
            "2/2 [==============================] - 0s 6ms/step - loss: 14.3070 - mae: 14.3070\n",
            "Epoch 54/100\n",
            "2/2 [==============================] - 0s 7ms/step - loss: 21.5952 - mae: 21.5952\n",
            "Epoch 55/100\n",
            "2/2 [==============================] - 0s 8ms/step - loss: 15.9989 - mae: 15.9989\n",
            "Epoch 56/100\n",
            "2/2 [==============================] - 0s 6ms/step - loss: 10.2744 - mae: 10.2744\n",
            "Epoch 57/100\n",
            "2/2 [==============================] - 0s 7ms/step - loss: 9.7657 - mae: 9.7657\n",
            "Epoch 58/100\n",
            "2/2 [==============================] - 0s 6ms/step - loss: 9.0506 - mae: 9.0506\n",
            "Epoch 59/100\n",
            "2/2 [==============================] - 0s 6ms/step - loss: 8.2561 - mae: 8.2561\n",
            "Epoch 60/100\n",
            "2/2 [==============================] - 0s 8ms/step - loss: 9.3514 - mae: 9.3514\n",
            "Epoch 61/100\n",
            "2/2 [==============================] - 0s 7ms/step - loss: 11.1641 - mae: 11.1641\n",
            "Epoch 62/100\n",
            "2/2 [==============================] - 0s 7ms/step - loss: 12.0626 - mae: 12.0626\n",
            "Epoch 63/100\n",
            "2/2 [==============================] - 0s 7ms/step - loss: 7.2630 - mae: 7.2630\n",
            "Epoch 64/100\n",
            "2/2 [==============================] - 0s 6ms/step - loss: 12.4317 - mae: 12.4317\n",
            "Epoch 65/100\n",
            "2/2 [==============================] - 0s 6ms/step - loss: 10.5000 - mae: 10.5000\n",
            "Epoch 66/100\n",
            "2/2 [==============================] - 0s 7ms/step - loss: 15.5958 - mae: 15.5958\n",
            "Epoch 67/100\n",
            "2/2 [==============================] - 0s 7ms/step - loss: 9.9986 - mae: 9.9986\n",
            "Epoch 68/100\n",
            "2/2 [==============================] - 0s 7ms/step - loss: 8.7118 - mae: 8.7118\n",
            "Epoch 69/100\n",
            "2/2 [==============================] - 0s 7ms/step - loss: 13.4719 - mae: 13.4719\n",
            "Epoch 70/100\n",
            "2/2 [==============================] - 0s 8ms/step - loss: 7.4611 - mae: 7.4611\n",
            "Epoch 71/100\n",
            "2/2 [==============================] - 0s 7ms/step - loss: 12.2269 - mae: 12.2269\n",
            "Epoch 72/100\n",
            "2/2 [==============================] - 0s 7ms/step - loss: 8.5205 - mae: 8.5205\n",
            "Epoch 73/100\n",
            "2/2 [==============================] - 0s 6ms/step - loss: 7.0310 - mae: 7.0310\n",
            "Epoch 74/100\n",
            "2/2 [==============================] - 0s 7ms/step - loss: 9.9147 - mae: 9.9147\n",
            "Epoch 75/100\n",
            "2/2 [==============================] - 0s 7ms/step - loss: 9.9348 - mae: 9.9348\n",
            "Epoch 76/100\n",
            "2/2 [==============================] - 0s 7ms/step - loss: 10.1000 - mae: 10.1000\n",
            "Epoch 77/100\n",
            "2/2 [==============================] - 0s 6ms/step - loss: 12.9555 - mae: 12.9555\n",
            "Epoch 78/100\n",
            "2/2 [==============================] - 0s 7ms/step - loss: 11.1372 - mae: 11.1372\n",
            "Epoch 79/100\n",
            "2/2 [==============================] - 0s 7ms/step - loss: 14.6859 - mae: 14.6859\n",
            "Epoch 80/100\n",
            "2/2 [==============================] - 0s 6ms/step - loss: 8.9223 - mae: 8.9223\n",
            "Epoch 81/100\n",
            "2/2 [==============================] - 0s 7ms/step - loss: 10.7685 - mae: 10.7685\n",
            "Epoch 82/100\n",
            "2/2 [==============================] - 0s 6ms/step - loss: 8.3744 - mae: 8.3744\n",
            "Epoch 83/100\n",
            "2/2 [==============================] - 0s 6ms/step - loss: 9.2234 - mae: 9.2234\n",
            "Epoch 84/100\n",
            "2/2 [==============================] - 0s 8ms/step - loss: 8.9372 - mae: 8.9372\n",
            "Epoch 85/100\n",
            "2/2 [==============================] - 0s 8ms/step - loss: 13.2067 - mae: 13.2067\n",
            "Epoch 86/100\n",
            "2/2 [==============================] - 0s 7ms/step - loss: 13.6915 - mae: 13.6915\n",
            "Epoch 87/100\n",
            "2/2 [==============================] - 0s 7ms/step - loss: 13.1754 - mae: 13.1754\n",
            "Epoch 88/100\n",
            "2/2 [==============================] - 0s 6ms/step - loss: 11.5000 - mae: 11.5000\n",
            "Epoch 89/100\n",
            "2/2 [==============================] - 0s 6ms/step - loss: 7.5575 - mae: 7.5575\n",
            "Epoch 90/100\n",
            "2/2 [==============================] - 0s 6ms/step - loss: 11.9392 - mae: 11.9392\n",
            "Epoch 91/100\n",
            "2/2 [==============================] - 0s 6ms/step - loss: 7.0932 - mae: 7.0932\n",
            "Epoch 92/100\n",
            "2/2 [==============================] - 0s 7ms/step - loss: 8.2084 - mae: 8.2084\n",
            "Epoch 93/100\n",
            "2/2 [==============================] - 0s 9ms/step - loss: 7.1027 - mae: 7.1027\n",
            "Epoch 94/100\n",
            "2/2 [==============================] - 0s 7ms/step - loss: 12.4580 - mae: 12.4580\n",
            "Epoch 95/100\n",
            "2/2 [==============================] - 0s 7ms/step - loss: 9.8345 - mae: 9.8345\n",
            "Epoch 96/100\n",
            "2/2 [==============================] - 0s 7ms/step - loss: 9.1556 - mae: 9.1556\n",
            "Epoch 97/100\n",
            "2/2 [==============================] - 0s 5ms/step - loss: 12.1758 - mae: 12.1758\n",
            "Epoch 98/100\n",
            "2/2 [==============================] - 0s 7ms/step - loss: 8.7609 - mae: 8.7609\n",
            "Epoch 99/100\n",
            "2/2 [==============================] - 0s 7ms/step - loss: 8.7403 - mae: 8.7403\n",
            "Epoch 100/100\n",
            "2/2 [==============================] - 0s 7ms/step - loss: 15.8933 - mae: 15.8933\n"
          ]
        },
        {
          "output_type": "execute_result",
          "data": {
            "text/plain": [
              "<keras.callbacks.History at 0x7f82644fbe50>"
            ]
          },
          "metadata": {},
          "execution_count": 19
        }
      ],
      "source": [
        "#1. Creating the model\n",
        "\n",
        "tf.random.set_seed(42)\n",
        "model = tf.keras.Sequential([tf.keras.layers.Dense(1,input_shape = [1])])\n",
        "\n",
        "#2. Compiling the model\n",
        "\n",
        "model.compile(loss = tf.keras.losses.mae,optimizer=tf.keras.optimizers.SGD(),metrics = [\"mae\"])\n",
        "\n",
        "#3. fitting the model\n",
        "\n",
        "model.fit(X_train,y_train,epochs = 100)"
      ]
    },
    {
      "cell_type": "code",
      "execution_count": 20,
      "metadata": {
        "colab": {
          "base_uri": "https://localhost:8080/"
        },
        "id": "ztGyLNLZEJnc",
        "outputId": "714bfaae-be19-4544-d91c-c99c0dabcc1b"
      },
      "outputs": [
        {
          "output_type": "execute_result",
          "data": {
            "text/plain": [
              "(TensorShape([50]), TensorShape([]))"
            ]
          },
          "metadata": {},
          "execution_count": 20
        }
      ],
      "source": [
        "# model.summary()\n",
        "X.shape,X[0].shape"
      ]
    },
    {
      "cell_type": "code",
      "execution_count": 21,
      "metadata": {
        "id": "k1hZWAc9EPD0"
      },
      "outputs": [],
      "source": [
        "#defining input shape argument in the first in the first layer\n",
        "tf.random.set_seed(42)\n",
        "\n",
        "#create a model\n",
        "\n",
        "model = tf.keras.Sequential([tf.keras.layers.Dense(10,input_shape=[1],name=\"input_layer\"),tf.keras.layers.Dense(1,name=\"middle_layer\")],name=\"model_1\")\n",
        "\n",
        "\n",
        "#compile the model\n",
        "model.compile(loss = tf.keras.losses.mae,optimizer=tf.keras.optimizers.SGD(),metrics = [\"mae\"])"
      ]
    },
    {
      "cell_type": "code",
      "execution_count": 22,
      "metadata": {
        "colab": {
          "base_uri": "https://localhost:8080/"
        },
        "id": "Iwf6M7UmdaKx",
        "outputId": "799e98b1-602c-470e-99de-c3d5827aeb58"
      },
      "outputs": [
        {
          "output_type": "stream",
          "name": "stdout",
          "text": [
            "Model: \"model_1\"\n",
            "_________________________________________________________________\n",
            " Layer (type)                Output Shape              Param #   \n",
            "=================================================================\n",
            " input_layer (Dense)         (None, 10)                20        \n",
            "                                                                 \n",
            " middle_layer (Dense)        (None, 1)                 11        \n",
            "                                                                 \n",
            "=================================================================\n",
            "Total params: 31\n",
            "Trainable params: 31\n",
            "Non-trainable params: 0\n",
            "_________________________________________________________________\n"
          ]
        }
      ],
      "source": [
        "model.summary()"
      ]
    },
    {
      "cell_type": "markdown",
      "metadata": {
        "id": "JH_LPBImfiqv"
      },
      "source": [
        "Total Params = Number of parameters persent in the model\n",
        "\n",
        "Trainable parameters - parameters or patterns that can update as it trains."
      ]
    },
    {
      "cell_type": "code",
      "execution_count": 23,
      "metadata": {
        "colab": {
          "base_uri": "https://localhost:8080/"
        },
        "id": "q0f_YLFoglEY",
        "outputId": "1c5e4ac6-f065-4479-ee8e-ed61ad18d5d6"
      },
      "outputs": [
        {
          "output_type": "execute_result",
          "data": {
            "text/plain": [
              "<keras.callbacks.History at 0x7f82662b2b30>"
            ]
          },
          "metadata": {},
          "execution_count": 23
        }
      ],
      "source": [
        "model.fit(X_train,y_train,epochs=100,verbose = 0)"
      ]
    },
    {
      "cell_type": "code",
      "execution_count": 24,
      "metadata": {
        "colab": {
          "base_uri": "https://localhost:8080/"
        },
        "id": "FZavg9KnjkXo",
        "outputId": "b726f063-a403-42d3-af93-3406441272f6"
      },
      "outputs": [
        {
          "output_type": "stream",
          "name": "stdout",
          "text": [
            "Model: \"model_1\"\n",
            "_________________________________________________________________\n",
            " Layer (type)                Output Shape              Param #   \n",
            "=================================================================\n",
            " input_layer (Dense)         (None, 10)                20        \n",
            "                                                                 \n",
            " middle_layer (Dense)        (None, 1)                 11        \n",
            "                                                                 \n",
            "=================================================================\n",
            "Total params: 31\n",
            "Trainable params: 31\n",
            "Non-trainable params: 0\n",
            "_________________________________________________________________\n"
          ]
        }
      ],
      "source": [
        "# summary of model\n",
        "model.summary()"
      ]
    },
    {
      "cell_type": "code",
      "execution_count": 46,
      "metadata": {
        "colab": {
          "base_uri": "https://localhost:8080/",
          "height": 312
        },
        "id": "epIul8vTkAAw",
        "outputId": "33552dd9-8a26-4168-e2f0-10a1c752e6c6"
      },
      "outputs": [
        {
          "output_type": "execute_result",
          "data": {
            "image/png": "[encoded data removed]",
            "text/plain": [
              "<IPython.core.display.Image object>"
            ]
          },
          "metadata": {},
          "execution_count": 46
        }
      ],
      "source": [
        "from tensorflow.python.keras.layers import Dense\n",
        "from tensorflow.keras.utils import plot_model\n",
        "\n",
        "\n",
        "plot_model(model = model,show_shapes = True)"
      ]
    },
    {
      "cell_type": "markdown",
      "metadata": {
        "id": "M4kxaVl-khng"
      },
      "source": [
        "To visualize predictions, plot them against truth tables.\n"
      ]
    },
    {
      "cell_type": "code",
      "execution_count": 47,
      "metadata": {
        "colab": {
          "base_uri": "https://localhost:8080/"
        },
        "id": "bLdS44hMphbT",
        "outputId": "6765f027-c0e4-41a5-c65d-63e57390fb73"
      },
      "outputs": [
        {
          "output_type": "stream",
          "name": "stdout",
          "text": [
            "1/1 [==============================] - 0s 37ms/step\n"
          ]
        },
        {
          "output_type": "execute_result",
          "data": {
            "text/plain": [
              "array([[ 81.620674],\n",
              "       [ 86.94702 ],\n",
              "       [ 92.27336 ],\n",
              "       [ 97.59973 ],\n",
              "       [102.92607 ],\n",
              "       [108.252426],\n",
              "       [113.578766],\n",
              "       [118.90513 ],\n",
              "       [124.23147 ],\n",
              "       [129.55783 ]], dtype=float32)"
            ]
          },
          "metadata": {},
          "execution_count": 47
        }
      ],
      "source": [
        "y_pred = model.predict(X_test)\n",
        "y_pred"
      ]
    },
    {
      "cell_type": "code",
      "execution_count": 48,
      "metadata": {
        "colab": {
          "base_uri": "https://localhost:8080/"
        },
        "id": "_zYz5wAwpjz5",
        "outputId": "d6fca103-500f-44e9-885e-0bd6827f0c5d"
      },
      "outputs": [
        {
          "output_type": "execute_result",
          "data": {
            "text/plain": [
              "<tf.Tensor: shape=(10,), dtype=int32, numpy=array([ 70,  74,  78,  82,  86,  90,  94,  98, 102, 106], dtype=int32)>"
            ]
          },
          "metadata": {},
          "execution_count": 48
        }
      ],
      "source": [
        "y_test"
      ]
    },
    {
      "cell_type": "code",
      "execution_count": 49,
      "metadata": {
        "id": "n8J2yOc_ps1M"
      },
      "outputs": [],
      "source": [
        "#plotting function\n",
        "def plot_predictions(train_data=X_train,train_label = y_train,test_data = X_test,test_label=y_test,predictions = y_pred):\n",
        "  plt.figure(figsize=(10,7))\n",
        "  #plot training data in blue\n",
        "  plt.scatter(train_data,train_label,c=\"b\",label=\"training_data\")\n",
        "  plt.scatter(test_data,test_label,c=\"r\",label =\"testing data\")\n",
        "  plt.scatter(test_data,predictions,c=\"g\",label = \"predictions\")\n",
        "  plt.legend();\n"
      ]
    },
    {
      "cell_type": "code",
      "execution_count": 50,
      "metadata": {
        "colab": {
          "base_uri": "https://localhost:8080/",
          "height": 463
        },
        "id": "S6XFPgaUr2E8",
        "outputId": "01d943ac-a604-4157-8bca-f3beb807039d"
      },
      "outputs": [
        {
          "output_type": "display_data",
          "data": {
            "text/plain": [
              "<Figure size 1000x700 with 1 Axes>"
            ],
            "image/png": "[encoded data removed]"
          },
          "metadata": {}
        }
      ],
      "source": [
        "plot_predictions()"
      ]
    },
    {
      "cell_type": "markdown",
      "source": [
        "#Evaluation Matrix to evaluate the model's performence"
      ],
      "metadata": {
        "id": "Ujr3rDiar_eS"
      }
    },
    {
      "cell_type": "markdown",
      "source": [
        "evaluating our model's prediction , different evalutions are used to evaluate...\n",
        "\n",
        "for regression Two main metrics are used :\n",
        "\n",
        "1) MAE(Mean Absolute Error): on average how wrong is each of our model's predictions.\n",
        "\n",
        "2) MSE(Mean Square Error): square the absolute errors"
      ],
      "metadata": {
        "id": "wyR0k53QtxCr"
      }
    },
    {
      "cell_type": "code",
      "source": [
        "  #evaluate the model using test set\n",
        "  model.evaluate(X_test,y_test)"
      ],
      "metadata": {
        "colab": {
          "base_uri": "https://localhost:8080/"
        },
        "id": "ohyq9dwyekRx",
        "outputId": "a77fec58-4be0-461c-fa3e-89c9193dbca4"
      },
      "execution_count": 51,
      "outputs": [
        {
          "output_type": "stream",
          "name": "stdout",
          "text": [
            "1/1 [==============================] - 0s 100ms/step - loss: 17.5893 - mae: 17.5893\n"
          ]
        },
        {
          "output_type": "execute_result",
          "data": {
            "text/plain": [
              "[17.589252471923828, 17.589252471923828]"
            ]
          },
          "metadata": {},
          "execution_count": 51
        }
      ]
    },
    {
      "cell_type": "code",
      "source": [
        "tf.metrics.mean_absolute_error(y_true=y_test,y_pred=tf.constant(y_pred))"
      ],
      "metadata": {
        "colab": {
          "base_uri": "https://localhost:8080/"
        },
        "id": "LZ8naKApiqjB",
        "outputId": "7bcec05c-e225-40ef-9bd6-65390fc1838c"
      },
      "execution_count": 52,
      "outputs": [
        {
          "output_type": "execute_result",
          "data": {
            "text/plain": [
              "<tf.Tensor: shape=(10,), dtype=float32, numpy=\n",
              "array([10.951731, 10.      , 10.454672, 12.239893, 15.540857, 20.252426,\n",
              "       25.578766, 30.905127, 36.23147 , 41.55783 ], dtype=float32)>"
            ]
          },
          "metadata": {},
          "execution_count": 52
        }
      ]
    },
    {
      "cell_type": "code",
      "source": [
        "tf.constant(y_pred)"
      ],
      "metadata": {
        "colab": {
          "base_uri": "https://localhost:8080/"
        },
        "id": "Irbia_kuhjjD",
        "outputId": "b40147a4-e714-49a8-8e4f-13da64c89b73"
      },
      "execution_count": 53,
      "outputs": [
        {
          "output_type": "execute_result",
          "data": {
            "text/plain": [
              "<tf.Tensor: shape=(10, 1), dtype=float32, numpy=\n",
              "array([[ 81.620674],\n",
              "       [ 86.94702 ],\n",
              "       [ 92.27336 ],\n",
              "       [ 97.59973 ],\n",
              "       [102.92607 ],\n",
              "       [108.252426],\n",
              "       [113.578766],\n",
              "       [118.90513 ],\n",
              "       [124.23147 ],\n",
              "       [129.55783 ]], dtype=float32)>"
            ]
          },
          "metadata": {},
          "execution_count": 53
        }
      ]
    },
    {
      "cell_type": "code",
      "source": [
        "tf.constant(y_test)"
      ],
      "metadata": {
        "colab": {
          "base_uri": "https://localhost:8080/"
        },
        "id": "5VbqYXDjimCZ",
        "outputId": "4403c5df-ec0c-40c8-a99b-641a9162ad6d"
      },
      "execution_count": 54,
      "outputs": [
        {
          "output_type": "execute_result",
          "data": {
            "text/plain": [
              "<tf.Tensor: shape=(10,), dtype=int32, numpy=array([ 70,  74,  78,  82,  86,  90,  94,  98, 102, 106], dtype=int32)>"
            ]
          },
          "metadata": {},
          "execution_count": 54
        }
      ]
    },
    {
      "cell_type": "code",
      "source": [
        "tf.squeeze(y_pred)"
      ],
      "metadata": {
        "colab": {
          "base_uri": "https://localhost:8080/"
        },
        "id": "x9_qTJG_in9Z",
        "outputId": "bb279832-c2c4-48ef-e741-d3e86a134b06"
      },
      "execution_count": 55,
      "outputs": [
        {
          "output_type": "execute_result",
          "data": {
            "text/plain": [
              "<tf.Tensor: shape=(10,), dtype=float32, numpy=\n",
              "array([ 81.620674,  86.94702 ,  92.27336 ,  97.59973 , 102.92607 ,\n",
              "       108.252426, 113.578766, 118.90513 , 124.23147 , 129.55783 ],\n",
              "      dtype=float32)>"
            ]
          },
          "metadata": {},
          "execution_count": 55
        }
      ]
    },
    {
      "cell_type": "code",
      "source": [
        "tf.metrics.MAE(y_true=y_test,y_pred=tf.squeeze(y_pred))"
      ],
      "metadata": {
        "colab": {
          "base_uri": "https://localhost:8080/"
        },
        "id": "LYSBvYW3lYf6",
        "outputId": "03ab1868-ad34-42c2-9913-e2050bc38550"
      },
      "execution_count": 56,
      "outputs": [
        {
          "output_type": "execute_result",
          "data": {
            "text/plain": [
              "<tf.Tensor: shape=(), dtype=float32, numpy=17.589249>"
            ]
          },
          "metadata": {},
          "execution_count": 56
        }
      ]
    },
    {
      "cell_type": "code",
      "source": [
        "#Calculate the mean square error\n",
        "mse = tf.metrics.MSE(y_true=y_test,y_pred=tf.squeeze(y_pred))\n",
        "mse"
      ],
      "metadata": {
        "colab": {
          "base_uri": "https://localhost:8080/"
        },
        "id": "EYWLcfgclfvK",
        "outputId": "beae7219-a692-4c69-910c-62433f5916f5"
      },
      "execution_count": 57,
      "outputs": [
        {
          "output_type": "execute_result",
          "data": {
            "text/plain": [
              "<tf.Tensor: shape=(), dtype=float32, numpy=323.89508>"
            ]
          },
          "metadata": {},
          "execution_count": 57
        }
      ]
    },
    {
      "cell_type": "code",
      "source": [
        "def mae(y_true,y_pred):\n",
        "  return tf.metrics.mae(y_true,y_pred=tf.squeeze(y_pred))"
      ],
      "metadata": {
        "id": "LRh7oWLjnUs6"
      },
      "execution_count": 58,
      "outputs": []
    },
    {
      "cell_type": "code",
      "source": [
        "def mse(y_true,y_pred):\n",
        "  return tf.metrics.mse(y_true,y_pred=tf.squeeze(y_pred))"
      ],
      "metadata": {
        "id": "3CDLSW4WpSUS"
      },
      "execution_count": 59,
      "outputs": []
    },
    {
      "cell_type": "code",
      "source": [
        "mae(y_test,y_pred)"
      ],
      "metadata": {
        "colab": {
          "base_uri": "https://localhost:8080/"
        },
        "id": "t1QMoNispdi5",
        "outputId": "086e58ce-acce-48ef-aebb-b191adb6a6c8"
      },
      "execution_count": 60,
      "outputs": [
        {
          "output_type": "execute_result",
          "data": {
            "text/plain": [
              "<tf.Tensor: shape=(), dtype=float32, numpy=17.589249>"
            ]
          },
          "metadata": {},
          "execution_count": 60
        }
      ]
    },
    {
      "cell_type": "code",
      "source": [
        "mse(y_test,y_pred)"
      ],
      "metadata": {
        "colab": {
          "base_uri": "https://localhost:8080/"
        },
        "id": "wZ3UL9jmphCC",
        "outputId": "961f9ddc-d653-44a6-9867-7ecbad1a6b8d"
      },
      "execution_count": 61,
      "outputs": [
        {
          "output_type": "execute_result",
          "data": {
            "text/plain": [
              "<tf.Tensor: shape=(), dtype=float32, numpy=323.89508>"
            ]
          },
          "metadata": {},
          "execution_count": 61
        }
      ]
    },
    {
      "cell_type": "markdown",
      "source": [
        "#Running experiments to improve our model\n",
        "\n",
        "Build->fit->evaluate->tweak....\n",
        "\n",
        "\n",
        "1)Get additional data\n",
        "\n",
        "2) add more layers (make more complex model)\n",
        "\n",
        "3) train for longer\n",
        "\n",
        "\n",
        "modelling exp:\n",
        "\n",
        "1) model_1 : original model (1 layer, 100 epochs)\n",
        "\n",
        "2) model_2 : 2 layers , 100 epochs\n",
        "\n",
        "3) model_3 : 2 layers , 500 epochs\n",
        "\n",
        "\n"
      ],
      "metadata": {
        "id": "_t7eAQH_qAYy"
      }
    },
    {
      "cell_type": "code",
      "source": [
        "#set random seed\n",
        "tf.random.set_seed(42)\n",
        "\n",
        "#1 create model\n",
        "\n",
        "model_1 = tf.keras.Sequential([\n",
        "    tf.keras.layers.Dense(1,input_shape=[1])\n",
        "])\n",
        "\n",
        "model_1.compile(loss = tf.keras.losses.mae,optimizer = tf.keras.optimizers.SGD(),metrics=['mae'])\n",
        "\n",
        "#Fit the model\n",
        "model_1.fit(X_train,y_train,epochs=100)\n"
      ],
      "metadata": {
        "id": "CDfIiPx9qk9K",
        "colab": {
          "base_uri": "https://localhost:8080/"
        },
        "outputId": "df40f6ab-02a3-4d67-c35c-b7d1e890987a"
      },
      "execution_count": 67,
      "outputs": [
        {
          "output_type": "stream",
          "name": "stdout",
          "text": [
            "Epoch 1/100\n",
            "2/2 [==============================] - 1s 20ms/step - loss: 71.5237 - mae: 71.5237\n",
            "Epoch 2/100\n",
            "2/2 [==============================] - 0s 17ms/step - loss: 36.2669 - mae: 36.2669\n",
            "Epoch 3/100\n",
            "2/2 [==============================] - 0s 11ms/step - loss: 7.8215 - mae: 7.8215\n",
            "Epoch 4/100\n",
            "2/2 [==============================] - 0s 13ms/step - loss: 8.7795 - mae: 8.7795\n",
            "Epoch 5/100\n",
            "2/2 [==============================] - 0s 18ms/step - loss: 10.7832 - mae: 10.7832\n",
            "Epoch 6/100\n",
            "2/2 [==============================] - 0s 41ms/step - loss: 9.9747 - mae: 9.9747\n",
            "Epoch 7/100\n",
            "2/2 [==============================] - 0s 16ms/step - loss: 9.0280 - mae: 9.0280\n",
            "Epoch 8/100\n",
            "2/2 [==============================] - 0s 9ms/step - loss: 9.1004 - mae: 9.1004\n",
            "Epoch 9/100\n",
            "2/2 [==============================] - 0s 9ms/step - loss: 19.8628 - mae: 19.8628\n",
            "Epoch 10/100\n",
            "2/2 [==============================] - 0s 8ms/step - loss: 10.7454 - mae: 10.7454\n",
            "Epoch 11/100\n",
            "2/2 [==============================] - 0s 13ms/step - loss: 8.6609 - mae: 8.6609\n",
            "Epoch 12/100\n",
            "2/2 [==============================] - 0s 19ms/step - loss: 9.6477 - mae: 9.6477\n",
            "Epoch 13/100\n",
            "2/2 [==============================] - 0s 12ms/step - loss: 12.9565 - mae: 12.9565\n",
            "Epoch 14/100\n",
            "2/2 [==============================] - 0s 17ms/step - loss: 14.2490 - mae: 14.2490\n",
            "Epoch 15/100\n",
            "2/2 [==============================] - 0s 19ms/step - loss: 11.6560 - mae: 11.6560\n",
            "Epoch 16/100\n",
            "2/2 [==============================] - 0s 9ms/step - loss: 8.4884 - mae: 8.4884\n",
            "Epoch 17/100\n",
            "2/2 [==============================] - 0s 9ms/step - loss: 13.4953 - mae: 13.4953\n",
            "Epoch 18/100\n",
            "2/2 [==============================] - 0s 9ms/step - loss: 11.2834 - mae: 11.2834\n",
            "Epoch 19/100\n",
            "2/2 [==============================] - 0s 11ms/step - loss: 18.2646 - mae: 18.2646\n",
            "Epoch 20/100\n",
            "2/2 [==============================] - 0s 14ms/step - loss: 14.9735 - mae: 14.9735\n",
            "Epoch 21/100\n",
            "2/2 [==============================] - 0s 22ms/step - loss: 10.8587 - mae: 10.8587\n",
            "Epoch 22/100\n",
            "2/2 [==============================] - 0s 13ms/step - loss: 8.6099 - mae: 8.6099\n",
            "Epoch 23/100\n",
            "2/2 [==============================] - 0s 11ms/step - loss: 9.7330 - mae: 9.7330\n",
            "Epoch 24/100\n",
            "2/2 [==============================] - 0s 10ms/step - loss: 10.9691 - mae: 10.9691\n",
            "Epoch 25/100\n",
            "2/2 [==============================] - 0s 10ms/step - loss: 9.1781 - mae: 9.1781\n",
            "Epoch 26/100\n",
            "2/2 [==============================] - 0s 12ms/step - loss: 13.2061 - mae: 13.2061\n",
            "Epoch 27/100\n",
            "2/2 [==============================] - 0s 10ms/step - loss: 10.6808 - mae: 10.6808\n",
            "Epoch 28/100\n",
            "2/2 [==============================] - 0s 10ms/step - loss: 12.8994 - mae: 12.8994\n",
            "Epoch 29/100\n",
            "2/2 [==============================] - 0s 11ms/step - loss: 9.5278 - mae: 9.5278\n",
            "Epoch 30/100\n",
            "2/2 [==============================] - 0s 10ms/step - loss: 16.4181 - mae: 16.4181\n",
            "Epoch 31/100\n",
            "2/2 [==============================] - 0s 11ms/step - loss: 23.5872 - mae: 23.5872\n",
            "Epoch 32/100\n",
            "2/2 [==============================] - 0s 9ms/step - loss: 7.6293 - mae: 7.6293\n",
            "Epoch 33/100\n",
            "2/2 [==============================] - 0s 8ms/step - loss: 9.3261 - mae: 9.3261\n",
            "Epoch 34/100\n",
            "2/2 [==============================] - 0s 8ms/step - loss: 13.7001 - mae: 13.7001\n",
            "Epoch 35/100\n",
            "2/2 [==============================] - 0s 9ms/step - loss: 11.1705 - mae: 11.1705\n",
            "Epoch 36/100\n",
            "2/2 [==============================] - 0s 10ms/step - loss: 13.3868 - mae: 13.3868\n",
            "Epoch 37/100\n",
            "2/2 [==============================] - 0s 12ms/step - loss: 9.4730 - mae: 9.4730\n",
            "Epoch 38/100\n",
            "2/2 [==============================] - 0s 12ms/step - loss: 10.1269 - mae: 10.1269\n",
            "Epoch 39/100\n",
            "2/2 [==============================] - 0s 17ms/step - loss: 10.2226 - mae: 10.2226\n",
            "Epoch 40/100\n",
            "2/2 [==============================] - 0s 11ms/step - loss: 10.9646 - mae: 10.9646\n",
            "Epoch 41/100\n",
            "2/2 [==============================] - 0s 10ms/step - loss: 7.9424 - mae: 7.9424\n",
            "Epoch 42/100\n",
            "2/2 [==============================] - 0s 9ms/step - loss: 10.6048 - mae: 10.6048\n",
            "Epoch 43/100\n",
            "2/2 [==============================] - 0s 8ms/step - loss: 7.2299 - mae: 7.2299\n",
            "Epoch 44/100\n",
            "2/2 [==============================] - 0s 10ms/step - loss: 8.0160 - mae: 8.0160\n",
            "Epoch 45/100\n",
            "2/2 [==============================] - 0s 8ms/step - loss: 9.8108 - mae: 9.8108\n",
            "Epoch 46/100\n",
            "2/2 [==============================] - 0s 7ms/step - loss: 8.8865 - mae: 8.8865\n",
            "Epoch 47/100\n",
            "2/2 [==============================] - 0s 10ms/step - loss: 7.5919 - mae: 7.5919\n",
            "Epoch 48/100\n",
            "2/2 [==============================] - 0s 8ms/step - loss: 8.5892 - mae: 8.5892\n",
            "Epoch 49/100\n",
            "2/2 [==============================] - 0s 8ms/step - loss: 10.0167 - mae: 10.0167\n",
            "Epoch 50/100\n",
            "2/2 [==============================] - 0s 7ms/step - loss: 9.0403 - mae: 9.0403\n",
            "Epoch 51/100\n",
            "2/2 [==============================] - 0s 8ms/step - loss: 10.6867 - mae: 10.6867\n",
            "Epoch 52/100\n",
            "2/2 [==============================] - 0s 15ms/step - loss: 15.3114 - mae: 15.3114\n",
            "Epoch 53/100\n",
            "2/2 [==============================] - 0s 10ms/step - loss: 14.3309 - mae: 14.3309\n",
            "Epoch 54/100\n",
            "2/2 [==============================] - 0s 11ms/step - loss: 21.6216 - mae: 21.6216\n",
            "Epoch 55/100\n",
            "2/2 [==============================] - 0s 8ms/step - loss: 16.0006 - mae: 16.0006\n",
            "Epoch 56/100\n",
            "2/2 [==============================] - 0s 9ms/step - loss: 10.3021 - mae: 10.3021\n",
            "Epoch 57/100\n",
            "2/2 [==============================] - 0s 9ms/step - loss: 9.7856 - mae: 9.7856\n",
            "Epoch 58/100\n",
            "2/2 [==============================] - 0s 8ms/step - loss: 9.0721 - mae: 9.0721\n",
            "Epoch 59/100\n",
            "2/2 [==============================] - 0s 8ms/step - loss: 8.2742 - mae: 8.2742\n",
            "Epoch 60/100\n",
            "2/2 [==============================] - 0s 9ms/step - loss: 9.3734 - mae: 9.3734\n",
            "Epoch 61/100\n",
            "2/2 [==============================] - 0s 10ms/step - loss: 11.1828 - mae: 11.1828\n",
            "Epoch 62/100\n",
            "2/2 [==============================] - 0s 8ms/step - loss: 12.0912 - mae: 12.0912\n",
            "Epoch 63/100\n",
            "2/2 [==============================] - 0s 11ms/step - loss: 7.2863 - mae: 7.2863\n",
            "Epoch 64/100\n",
            "2/2 [==============================] - 0s 10ms/step - loss: 12.4429 - mae: 12.4429\n",
            "Epoch 65/100\n",
            "2/2 [==============================] - 0s 9ms/step - loss: 10.5187 - mae: 10.5187\n",
            "Epoch 66/100\n",
            "2/2 [==============================] - 0s 8ms/step - loss: 15.6228 - mae: 15.6228\n",
            "Epoch 67/100\n",
            "2/2 [==============================] - 0s 10ms/step - loss: 10.0272 - mae: 10.0272\n",
            "Epoch 68/100\n",
            "2/2 [==============================] - 0s 7ms/step - loss: 8.7391 - mae: 8.7391\n",
            "Epoch 69/100\n",
            "2/2 [==============================] - 0s 6ms/step - loss: 13.5010 - mae: 13.5010\n",
            "Epoch 70/100\n",
            "2/2 [==============================] - 0s 6ms/step - loss: 7.4876 - mae: 7.4876\n",
            "Epoch 71/100\n",
            "2/2 [==============================] - 0s 8ms/step - loss: 12.2455 - mae: 12.2455\n",
            "Epoch 72/100\n",
            "2/2 [==============================] - 0s 8ms/step - loss: 8.5493 - mae: 8.5493\n",
            "Epoch 73/100\n",
            "2/2 [==============================] - 0s 7ms/step - loss: 7.0572 - mae: 7.0572\n",
            "Epoch 74/100\n",
            "2/2 [==============================] - 0s 7ms/step - loss: 9.9451 - mae: 9.9451\n",
            "Epoch 75/100\n",
            "2/2 [==============================] - 0s 8ms/step - loss: 9.9552 - mae: 9.9552\n",
            "Epoch 76/100\n",
            "2/2 [==============================] - 0s 10ms/step - loss: 10.1215 - mae: 10.1215\n",
            "Epoch 77/100\n",
            "2/2 [==============================] - 0s 8ms/step - loss: 12.9674 - mae: 12.9674\n",
            "Epoch 78/100\n",
            "2/2 [==============================] - 0s 7ms/step - loss: 11.1634 - mae: 11.1634\n",
            "Epoch 79/100\n",
            "2/2 [==============================] - 0s 7ms/step - loss: 14.7126 - mae: 14.7126\n",
            "Epoch 80/100\n",
            "2/2 [==============================] - 0s 7ms/step - loss: 8.9428 - mae: 8.9428\n",
            "Epoch 81/100\n",
            "2/2 [==============================] - 0s 7ms/step - loss: 10.7872 - mae: 10.7872\n",
            "Epoch 82/100\n",
            "2/2 [==============================] - 0s 8ms/step - loss: 8.4046 - mae: 8.4046\n",
            "Epoch 83/100\n",
            "2/2 [==============================] - 0s 8ms/step - loss: 9.2424 - mae: 9.2424\n",
            "Epoch 84/100\n",
            "2/2 [==============================] - 0s 7ms/step - loss: 8.9604 - mae: 8.9604\n",
            "Epoch 85/100\n",
            "2/2 [==============================] - 0s 7ms/step - loss: 13.2084 - mae: 13.2084\n",
            "Epoch 86/100\n",
            "2/2 [==============================] - 0s 6ms/step - loss: 13.7149 - mae: 13.7149\n",
            "Epoch 87/100\n",
            "2/2 [==============================] - 0s 7ms/step - loss: 13.1994 - mae: 13.1994\n",
            "Epoch 88/100\n",
            "2/2 [==============================] - 0s 9ms/step - loss: 11.5269 - mae: 11.5269\n",
            "Epoch 89/100\n",
            "2/2 [==============================] - 0s 9ms/step - loss: 7.8205 - mae: 7.8205\n",
            "Epoch 90/100\n",
            "2/2 [==============================] - 0s 7ms/step - loss: 10.9436 - mae: 10.9436\n",
            "Epoch 91/100\n",
            "2/2 [==============================] - 0s 7ms/step - loss: 6.7679 - mae: 6.7679\n",
            "Epoch 92/100\n",
            "2/2 [==============================] - 0s 7ms/step - loss: 10.1362 - mae: 10.1362\n",
            "Epoch 93/100\n",
            "2/2 [==============================] - 0s 6ms/step - loss: 7.6247 - mae: 7.6247\n",
            "Epoch 94/100\n",
            "2/2 [==============================] - 0s 6ms/step - loss: 9.2581 - mae: 9.2581\n",
            "Epoch 95/100\n",
            "2/2 [==============================] - 0s 8ms/step - loss: 10.8487 - mae: 10.8487\n",
            "Epoch 96/100\n",
            "2/2 [==============================] - 0s 7ms/step - loss: 10.3067 - mae: 10.3067\n",
            "Epoch 97/100\n",
            "2/2 [==============================] - 0s 7ms/step - loss: 7.6969 - mae: 7.6969\n",
            "Epoch 98/100\n",
            "2/2 [==============================] - 0s 8ms/step - loss: 8.6327 - mae: 8.6327\n",
            "Epoch 99/100\n",
            "2/2 [==============================] - 0s 8ms/step - loss: 9.4119 - mae: 9.4119\n",
            "Epoch 100/100\n",
            "2/2 [==============================] - 0s 9ms/step - loss: 8.8566 - mae: 8.8566\n"
          ]
        },
        {
          "output_type": "execute_result",
          "data": {
            "text/plain": [
              "<keras.callbacks.History at 0x7f8264e3bcd0>"
            ]
          },
          "metadata": {},
          "execution_count": 67
        }
      ]
    },
    {
      "cell_type": "code",
      "source": [
        "#make and plot predictions for model_1\n",
        "\n",
        "y_pred_1 = model_1.predict(X_test)\n",
        "plot_predictions(predictions=y_pred_1)"
      ],
      "metadata": {
        "colab": {
          "base_uri": "https://localhost:8080/",
          "height": 518
        },
        "id": "vnH_71P7PXEE",
        "outputId": "aca9a0c6-94ed-400b-a925-bfa736487f22"
      },
      "execution_count": 68,
      "outputs": [
        {
          "output_type": "stream",
          "name": "stderr",
          "text": [
            "WARNING:tensorflow:6 out of the last 7 calls to <function Model.make_predict_function.<locals>.predict_function at 0x7f8264d43880> triggered tf.function retracing. Tracing is expensive and the excessive number of tracings could be due to (1) creating @tf.function repeatedly in a loop, (2) passing tensors with different shapes, (3) passing Python objects instead of tensors. For (1), please define your @tf.function outside of the loop. For (2), @tf.function has reduce_retracing=True option that can avoid unnecessary retracing. For (3), please refer to https://www.tensorflow.org/guide/function#controlling_retracing and https://www.tensorflow.org/api_docs/python/tf/function for  more details.\n"
          ]
        },
        {
          "output_type": "stream",
          "name": "stdout",
          "text": [
            "1/1 [==============================] - 0s 85ms/step\n"
          ]
        },
        {
          "output_type": "display_data",
          "data": {
            "text/plain": [
              "<Figure size 1000x700 with 1 Axes>"
            ],
            "image/png": "[encoded data removed]"
          },
          "metadata": {}
        }
      ]
    },
    {
      "cell_type": "code",
      "source": [
        "#calculate model_1 evaluation metrics\n",
        "\n",
        "mae_1 = mae(y_test,tf.squeeze(y_pred_1))\n",
        "mse_1 = mse(y_test,tf.squeeze(y_pred_1))"
      ],
      "metadata": {
        "id": "hu9-WY8rR0_B"
      },
      "execution_count": 69,
      "outputs": []
    },
    {
      "cell_type": "code",
      "source": [
        "mae_1 , mse_1"
      ],
      "metadata": {
        "colab": {
          "base_uri": "https://localhost:8080/"
        },
        "id": "LSiaN49aSQlx",
        "outputId": "d584f142-c063-41ce-a712-8f64f91d3ee3"
      },
      "execution_count": 70,
      "outputs": [
        {
          "output_type": "execute_result",
          "data": {
            "text/plain": [
              "(<tf.Tensor: shape=(), dtype=float32, numpy=8.585059>,\n",
              " <tf.Tensor: shape=(), dtype=float32, numpy=80.20286>)"
            ]
          },
          "metadata": {},
          "execution_count": 70
        }
      ]
    },
    {
      "cell_type": "code",
      "source": [
        "#model_2\n",
        "\n",
        "#1) set the random seed\n",
        "\n",
        "tf.random.set_seed(42)\n",
        "#2) Create the model\n",
        "\n",
        "model_2 = tf.keras.Sequential([tf.keras.layers.Dense(10,input_shape=[1]),tf.keras.layers.Dense(1,input_shape=[1])])\n",
        "# 3. compile the model\n",
        "\n",
        "model_2.compile(loss = tf.keras.losses.mae, optimizer = tf.keras.optimizers.SGD(),metrics=['mae'])\n",
        "\n",
        "\n",
        "#4. fit the model\n",
        "\n",
        "model_2.fit(X_train,y_train,epochs=100)"
      ],
      "metadata": {
        "colab": {
          "base_uri": "https://localhost:8080/"
        },
        "id": "y7CV5ZfESUkZ",
        "outputId": "f16d6715-4b0f-4edd-9d9d-20f2a37334eb"
      },
      "execution_count": 79,
      "outputs": [
        {
          "output_type": "stream",
          "name": "stdout",
          "text": [
            "Epoch 1/100\n",
            "2/2 [==============================] - 0s 13ms/step - loss: 40.9093 - mae: 40.9093\n",
            "Epoch 2/100\n",
            "2/2 [==============================] - 0s 8ms/step - loss: 31.3395 - mae: 31.3395\n",
            "Epoch 3/100\n",
            "2/2 [==============================] - 0s 7ms/step - loss: 36.7006 - mae: 36.7006\n",
            "Epoch 4/100\n",
            "2/2 [==============================] - 0s 6ms/step - loss: 25.7417 - mae: 25.7417\n",
            "Epoch 5/100\n",
            "2/2 [==============================] - 0s 8ms/step - loss: 15.1971 - mae: 15.1971\n",
            "Epoch 6/100\n",
            "2/2 [==============================] - 0s 11ms/step - loss: 12.0805 - mae: 12.0805\n",
            "Epoch 7/100\n",
            "2/2 [==============================] - 0s 10ms/step - loss: 11.3966 - mae: 11.3966\n",
            "Epoch 8/100\n",
            "2/2 [==============================] - 0s 9ms/step - loss: 11.1908 - mae: 11.1908\n",
            "Epoch 9/100\n",
            "2/2 [==============================] - 0s 8ms/step - loss: 41.5055 - mae: 41.5055\n",
            "Epoch 10/100\n",
            "2/2 [==============================] - 0s 8ms/step - loss: 28.7651 - mae: 28.7651\n",
            "Epoch 11/100\n",
            "2/2 [==============================] - 0s 8ms/step - loss: 9.4123 - mae: 9.4123\n",
            "Epoch 12/100\n",
            "2/2 [==============================] - 0s 11ms/step - loss: 26.2567 - mae: 26.2567\n",
            "Epoch 13/100\n",
            "2/2 [==============================] - 0s 8ms/step - loss: 14.5220 - mae: 14.5220\n",
            "Epoch 14/100\n",
            "2/2 [==============================] - 0s 9ms/step - loss: 30.0598 - mae: 30.0598\n",
            "Epoch 15/100\n",
            "2/2 [==============================] - 0s 8ms/step - loss: 19.8707 - mae: 19.8707\n",
            "Epoch 16/100\n",
            "2/2 [==============================] - 0s 8ms/step - loss: 9.8859 - mae: 9.8859\n",
            "Epoch 17/100\n",
            "2/2 [==============================] - 0s 8ms/step - loss: 17.7545 - mae: 17.7545\n",
            "Epoch 18/100\n",
            "2/2 [==============================] - 0s 5ms/step - loss: 14.2246 - mae: 14.2246\n",
            "Epoch 19/100\n",
            "2/2 [==============================] - 0s 8ms/step - loss: 14.0680 - mae: 14.0680\n",
            "Epoch 20/100\n",
            "2/2 [==============================] - 0s 7ms/step - loss: 11.2616 - mae: 11.2616\n",
            "Epoch 21/100\n",
            "2/2 [==============================] - 0s 9ms/step - loss: 17.3940 - mae: 17.3940\n",
            "Epoch 22/100\n",
            "2/2 [==============================] - 0s 9ms/step - loss: 15.6296 - mae: 15.6296\n",
            "Epoch 23/100\n",
            "2/2 [==============================] - 0s 8ms/step - loss: 9.2368 - mae: 9.2368\n",
            "Epoch 24/100\n",
            "2/2 [==============================] - 0s 9ms/step - loss: 17.2253 - mae: 17.2253\n",
            "Epoch 25/100\n",
            "2/2 [==============================] - 0s 8ms/step - loss: 15.9129 - mae: 15.9129\n",
            "Epoch 26/100\n",
            "2/2 [==============================] - 0s 11ms/step - loss: 20.8657 - mae: 20.8657\n",
            "Epoch 27/100\n",
            "2/2 [==============================] - 0s 8ms/step - loss: 26.1100 - mae: 26.1100\n",
            "Epoch 28/100\n",
            "2/2 [==============================] - 0s 14ms/step - loss: 18.5889 - mae: 18.5889\n",
            "Epoch 29/100\n",
            "2/2 [==============================] - 0s 9ms/step - loss: 9.2520 - mae: 9.2520\n",
            "Epoch 30/100\n",
            "2/2 [==============================] - 0s 9ms/step - loss: 29.2084 - mae: 29.2084\n",
            "Epoch 31/100\n",
            "2/2 [==============================] - 0s 14ms/step - loss: 52.9163 - mae: 52.9163\n",
            "Epoch 32/100\n",
            "2/2 [==============================] - 0s 6ms/step - loss: 11.9805 - mae: 11.9805\n",
            "Epoch 33/100\n",
            "2/2 [==============================] - 0s 7ms/step - loss: 15.6024 - mae: 15.6024\n",
            "Epoch 34/100\n",
            "2/2 [==============================] - 0s 9ms/step - loss: 12.6728 - mae: 12.6728\n",
            "Epoch 35/100\n",
            "2/2 [==============================] - 0s 8ms/step - loss: 9.2341 - mae: 9.2341\n",
            "Epoch 36/100\n",
            "2/2 [==============================] - 0s 7ms/step - loss: 16.6012 - mae: 16.6012\n",
            "Epoch 37/100\n",
            "2/2 [==============================] - 0s 7ms/step - loss: 11.0570 - mae: 11.0570\n",
            "Epoch 38/100\n",
            "2/2 [==============================] - 0s 10ms/step - loss: 18.1834 - mae: 18.1834\n",
            "Epoch 39/100\n",
            "2/2 [==============================] - 0s 8ms/step - loss: 19.1199 - mae: 19.1199\n",
            "Epoch 40/100\n",
            "2/2 [==============================] - 0s 7ms/step - loss: 20.4646 - mae: 20.4646\n",
            "Epoch 41/100\n",
            "2/2 [==============================] - 0s 8ms/step - loss: 14.8792 - mae: 14.8792\n",
            "Epoch 42/100\n",
            "2/2 [==============================] - 0s 7ms/step - loss: 12.2578 - mae: 12.2578\n",
            "Epoch 43/100\n",
            "2/2 [==============================] - 0s 8ms/step - loss: 10.7236 - mae: 10.7236\n",
            "Epoch 44/100\n",
            "2/2 [==============================] - 0s 8ms/step - loss: 22.9335 - mae: 22.9335\n",
            "Epoch 45/100\n",
            "2/2 [==============================] - 0s 9ms/step - loss: 10.3696 - mae: 10.3696\n",
            "Epoch 46/100\n",
            "2/2 [==============================] - 0s 9ms/step - loss: 11.7559 - mae: 11.7559\n",
            "Epoch 47/100\n",
            "2/2 [==============================] - 0s 8ms/step - loss: 9.6656 - mae: 9.6656\n",
            "Epoch 48/100\n",
            "2/2 [==============================] - 0s 10ms/step - loss: 17.2757 - mae: 17.2757\n",
            "Epoch 49/100\n",
            "2/2 [==============================] - 0s 11ms/step - loss: 9.5528 - mae: 9.5528\n",
            "Epoch 50/100\n",
            "2/2 [==============================] - 0s 9ms/step - loss: 13.7766 - mae: 13.7766\n",
            "Epoch 51/100\n",
            "2/2 [==============================] - 0s 8ms/step - loss: 11.5839 - mae: 11.5839\n",
            "Epoch 52/100\n",
            "2/2 [==============================] - 0s 8ms/step - loss: 30.4207 - mae: 30.4207\n",
            "Epoch 53/100\n",
            "2/2 [==============================] - 0s 8ms/step - loss: 14.2992 - mae: 14.2992\n",
            "Epoch 54/100\n",
            "2/2 [==============================] - 0s 10ms/step - loss: 23.6435 - mae: 23.6435\n",
            "Epoch 55/100\n",
            "2/2 [==============================] - 0s 9ms/step - loss: 24.5737 - mae: 24.5737\n",
            "Epoch 56/100\n",
            "2/2 [==============================] - 0s 8ms/step - loss: 11.3340 - mae: 11.3340\n",
            "Epoch 57/100\n",
            "2/2 [==============================] - 0s 8ms/step - loss: 13.3504 - mae: 13.3504\n",
            "Epoch 58/100\n",
            "2/2 [==============================] - 0s 8ms/step - loss: 9.9421 - mae: 9.9421\n",
            "Epoch 59/100\n",
            "2/2 [==============================] - 0s 7ms/step - loss: 13.9022 - mae: 13.9022\n",
            "Epoch 60/100\n",
            "2/2 [==============================] - 0s 8ms/step - loss: 9.9845 - mae: 9.9845\n",
            "Epoch 61/100\n",
            "2/2 [==============================] - 0s 8ms/step - loss: 14.9583 - mae: 14.9583\n",
            "Epoch 62/100\n",
            "2/2 [==============================] - 0s 8ms/step - loss: 11.9164 - mae: 11.9164\n",
            "Epoch 63/100\n",
            "2/2 [==============================] - 0s 8ms/step - loss: 10.2815 - mae: 10.2815\n",
            "Epoch 64/100\n",
            "2/2 [==============================] - 0s 9ms/step - loss: 23.8651 - mae: 23.8651\n",
            "Epoch 65/100\n",
            "2/2 [==============================] - 0s 8ms/step - loss: 10.4577 - mae: 10.4577\n",
            "Epoch 66/100\n",
            "2/2 [==============================] - 0s 9ms/step - loss: 20.9131 - mae: 20.9131\n",
            "Epoch 67/100\n",
            "2/2 [==============================] - 0s 8ms/step - loss: 10.4345 - mae: 10.4345\n",
            "Epoch 68/100\n",
            "2/2 [==============================] - 0s 7ms/step - loss: 14.1620 - mae: 14.1620\n",
            "Epoch 69/100\n",
            "2/2 [==============================] - 0s 8ms/step - loss: 10.5043 - mae: 10.5043\n",
            "Epoch 70/100\n",
            "2/2 [==============================] - 0s 7ms/step - loss: 12.5743 - mae: 12.5743\n",
            "Epoch 71/100\n",
            "2/2 [==============================] - 0s 7ms/step - loss: 13.0044 - mae: 13.0044\n",
            "Epoch 72/100\n",
            "2/2 [==============================] - 0s 8ms/step - loss: 19.3402 - mae: 19.3402\n",
            "Epoch 73/100\n",
            "2/2 [==============================] - 0s 8ms/step - loss: 11.1221 - mae: 11.1221\n",
            "Epoch 74/100\n",
            "2/2 [==============================] - 0s 8ms/step - loss: 21.4256 - mae: 21.4256\n",
            "Epoch 75/100\n",
            "2/2 [==============================] - 0s 9ms/step - loss: 9.4520 - mae: 9.4520\n",
            "Epoch 76/100\n",
            "2/2 [==============================] - 0s 8ms/step - loss: 12.2741 - mae: 12.2741\n",
            "Epoch 77/100\n",
            "2/2 [==============================] - 0s 8ms/step - loss: 16.3062 - mae: 16.3062\n",
            "Epoch 78/100\n",
            "2/2 [==============================] - 0s 7ms/step - loss: 9.0047 - mae: 9.0047\n",
            "Epoch 79/100\n",
            "2/2 [==============================] - 0s 7ms/step - loss: 23.5519 - mae: 23.5519\n",
            "Epoch 80/100\n",
            "2/2 [==============================] - 0s 7ms/step - loss: 26.2445 - mae: 26.2445\n",
            "Epoch 81/100\n",
            "2/2 [==============================] - 0s 8ms/step - loss: 11.4302 - mae: 11.4302\n",
            "Epoch 82/100\n",
            "2/2 [==============================] - 0s 8ms/step - loss: 12.4468 - mae: 12.4468\n",
            "Epoch 83/100\n",
            "2/2 [==============================] - 0s 8ms/step - loss: 17.1140 - mae: 17.1140\n",
            "Epoch 84/100\n",
            "2/2 [==============================] - 0s 9ms/step - loss: 7.2574 - mae: 7.2574\n",
            "Epoch 85/100\n",
            "2/2 [==============================] - 0s 9ms/step - loss: 37.1500 - mae: 37.1500\n",
            "Epoch 86/100\n",
            "2/2 [==============================] - 0s 12ms/step - loss: 21.1761 - mae: 21.1761\n",
            "Epoch 87/100\n",
            "2/2 [==============================] - 0s 10ms/step - loss: 11.0141 - mae: 11.0141\n",
            "Epoch 88/100\n",
            "2/2 [==============================] - 0s 8ms/step - loss: 25.0341 - mae: 25.0341\n",
            "Epoch 89/100\n",
            "2/2 [==============================] - 0s 8ms/step - loss: 9.3477 - mae: 9.3477\n",
            "Epoch 90/100\n",
            "2/2 [==============================] - 0s 7ms/step - loss: 17.3448 - mae: 17.3448\n",
            "Epoch 91/100\n",
            "2/2 [==============================] - 0s 10ms/step - loss: 10.7864 - mae: 10.7864\n",
            "Epoch 92/100\n",
            "2/2 [==============================] - 0s 9ms/step - loss: 19.0302 - mae: 19.0302\n",
            "Epoch 93/100\n",
            "2/2 [==============================] - 0s 8ms/step - loss: 8.3057 - mae: 8.3057\n",
            "Epoch 94/100\n",
            "2/2 [==============================] - 0s 7ms/step - loss: 11.5440 - mae: 11.5440\n",
            "Epoch 95/100\n",
            "2/2 [==============================] - 0s 8ms/step - loss: 26.0587 - mae: 26.0587\n",
            "Epoch 96/100\n",
            "2/2 [==============================] - 0s 8ms/step - loss: 11.1710 - mae: 11.1710\n",
            "Epoch 97/100\n",
            "2/2 [==============================] - 0s 8ms/step - loss: 16.7441 - mae: 16.7441\n",
            "Epoch 98/100\n",
            "2/2 [==============================] - 0s 8ms/step - loss: 6.5871 - mae: 6.5871\n",
            "Epoch 99/100\n",
            "2/2 [==============================] - 0s 7ms/step - loss: 12.6116 - mae: 12.6116\n",
            "Epoch 100/100\n",
            "2/2 [==============================] - 0s 8ms/step - loss: 19.4368 - mae: 19.4368\n"
          ]
        },
        {
          "output_type": "execute_result",
          "data": {
            "text/plain": [
              "<keras.callbacks.History at 0x7f8264d90df0>"
            ]
          },
          "metadata": {},
          "execution_count": 79
        }
      ]
    },
    {
      "cell_type": "code",
      "source": [
        "#make plot predictions of model_2\n",
        "\n",
        "y_pred_2 = model_2.predict(X_test)\n",
        "plot_predictions(predictions=y_pred_2)"
      ],
      "metadata": {
        "colab": {
          "base_uri": "https://localhost:8080/",
          "height": 480
        },
        "id": "a8wAmeqBSol-",
        "outputId": "4349d1d4-de99-4656-ba6b-2ab5278138f6"
      },
      "execution_count": 84,
      "outputs": [
        {
          "output_type": "stream",
          "name": "stdout",
          "text": [
            "1/1 [==============================] - 0s 36ms/step\n"
          ]
        },
        {
          "output_type": "display_data",
          "data": {
            "text/plain": [
              "<Figure size 1000x700 with 1 Axes>"
            ],
            "image/png": "[encoded data removed]"
          },
          "metadata": {}
        }
      ]
    },
    {
      "cell_type": "code",
      "source": [],
      "metadata": {
        "id": "gT7kZjVeVqzJ"
      },
      "execution_count": null,
      "outputs": []
    }
  ],
  "metadata": {
    "colab": {
      "provenance": [],
      "authorship_tag": "ABX9TyP87dRL+PeJcur6TJPn+0ZQ",
      "include_colab_link": true
    },
    "kernelspec": {
      "display_name": "Python 3",
      "name": "python3"
    },
    "language_info": {
      "name": "python"
    }
  },
  "nbformat": 4,
  "nbformat_minor": 0
}